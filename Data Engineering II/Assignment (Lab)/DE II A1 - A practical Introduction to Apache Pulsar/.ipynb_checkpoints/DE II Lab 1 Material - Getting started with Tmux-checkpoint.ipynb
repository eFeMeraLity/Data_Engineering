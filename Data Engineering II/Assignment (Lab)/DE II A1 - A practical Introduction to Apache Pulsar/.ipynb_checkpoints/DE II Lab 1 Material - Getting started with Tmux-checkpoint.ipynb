{
 "cells": [
  {
   "cell_type": "markdown",
   "metadata": {},
   "source": [
    "# DE II Lab 1 Supplementary Material - Getting started with Tmux"
   ]
  },
  {
   "cell_type": "markdown",
   "metadata": {},
   "source": [
    "## What is tmux?\n",
    "\n",
    "Tmux is a terminal multiplexer an alternative to GNU Screen . In other words, it means that you can start a Tmux session and then open multiple windows inside that session. Each window occupies the entire screen and can be split into rectangular panes.\\\n",
    "Tmux是一个终端多路复用器，可以替代GNU屏幕。换句话说，这意味着您可以启动一个Tmux session，然后在该session中打开多个窗口。每个窗口占据整个屏幕，并可以被分割成矩形窗格。\n",
    "\n",
    "With Tmux you can easily switch between multiple programs in one terminal, detach them and reattach them to a different terminal.\\\n",
    "使用Tmux，您可以在一个终端上轻松切换多个程序，将它们分离并重新连接到不同的终端。\n",
    "\n",
    "Tmux sessions are persistent, which means that programs running in Tmux will continue to run even if you get disconnected.\\\n",
    "Tmux session是持久的，这意味着即使断开连接，在Tmux中运行的程序也将继续运行。\n",
    "\n",
    "All commands in Tmux start with a prefix, which by default is `ctrl + b`.\\\n",
    "Tmux中的所有命令都以前缀开头，默认情况下是`ctrl + b`。"
   ]
  },
  {
   "cell_type": "markdown",
   "metadata": {},
   "source": [
    "## Installing Tmux\n",
    "\n",
    "You can easily install Tmux using the package manager of your distro.\\\n",
    "您可以使用发行版（distro）的包管理器轻松安装Tmux。\n",
    "\n",
    "* Installing Tmux on Ubuntu and Debian\n",
    "```shell\n",
    "sudo apt install tmux\n",
    "```\n",
    "\n",
    "* Installing Tmux on CentOS and Fedora\n",
    "```shell\n",
    "sudo yum install tmux\n",
    "```\n",
    "\n",
    "* Installing Tmux on macOS\n",
    "```shell\n",
    "brew install tmux\n",
    "```"
   ]
  },
  {
   "cell_type": "markdown",
   "metadata": {},
   "source": [
    "## Starting Your First Tmux Session\n",
    "\n",
    "To start your first Tmux session, simply type `tmux` in your console:\\\n",
    "要启动您的第一个Tmux session，只需在控制台中输入`tmux`:\n",
    "```shell\n",
    "tmux\n",
    "```\n",
    "This will open a new session, create a new window, and start a shell in that window. Once you are in Tmux you’ll notice a status line at the bottom of the screen which shows information about the current session.\\\n",
    "这将打开一个新session，创建一个新窗口，并在那个窗口中启动一个shell。进入Tmux后，您会注意到屏幕底部有一个状态行，显示当前session的信息。\n",
    "\n",
    "You can now run your first Tmux command. For example, to get a list of all commands, you would type:\\\n",
    "现在可以运行第一个Tmux命令。例如，要获得所有命令的列表，你可以输入:\n",
    "\n",
    "```shell\n",
    "Ctrl + b ?\n",
    "```"
   ]
  },
  {
   "cell_type": "markdown",
   "metadata": {},
   "source": [
    "## Creating Named Tmux Sessions\n",
    "\n",
    "By default, Tmux sessions are named numerically. Named sessions are useful when you run multiple Tmux sessions. To create a new named session, run the tmux command with the following arguments:\\\n",
    "默认情况下，Tmux会话以数字命名。在运行多个Tmux session时，命名会话非常有用。要创建一个新的命名session，使用以下参数运行tmux命令:\n",
    "```shell\n",
    "tmux new -s session_name\n",
    "```\n",
    "It’s always a good idea to choose a descriptive session name.\\\n",
    "选择一个描述性session名称总是一个好主意。"
   ]
  },
  {
   "cell_type": "markdown",
   "metadata": {},
   "source": [
    "## Detaching from Tmux Session\n",
    "\n",
    "You can detach from the Tmux session and return to your normal shell by typing:\\\n",
    "你可以从Tmux会话中分离出来，然后输入:\n",
    "\n",
    "`Ctrl+b d`\n",
    "\n",
    "The program running in the Tmux session will continue to run after you detach from the session.\\\n",
    "在Tmux session中运行的程序将在您从session分离后继续运行。"
   ]
  },
  {
   "cell_type": "markdown",
   "metadata": {},
   "source": [
    "## Re-attaching to Tmux Session\n",
    "\n",
    "To attach to a session first, you need to find the name of the session. To get a list of the currently running sessions type:\\\n",
    "要首先连接到session，您需要找到session的名称。获取当前运行的session类型的列表:\n",
    "```shell\n",
    "tmux ls\n",
    "```\n",
    "The name of the session is the first column of the output.\\\n",
    "session的名称是输出的第一列。\n",
    "```shell\n",
    "0: 1 windows (created Sat Sep 15 09:38:43 2018) [158x35]\n",
    "my_named_session: 1 windows (created Sat Sep 15 10:13:11 2018) [78x35]\n",
    "```\n",
    "As you can see from the output, there are two running Tmux sessions. The first one is named `0` and the second one `my_named_session`.\\\n",
    "从输出中可以看到，有两个正在运行的Tmux session。第一个命名为`0`，第二个命名为`my_named_session`。\n",
    "\n",
    "For example, to attach to session `0`, you would type:\\\n",
    "例如，要到`0`session，您可以输入:\n",
    "```shell\n",
    "tmux attach-session -t 0\n",
    "```"
   ]
  },
  {
   "cell_type": "markdown",
   "metadata": {},
   "source": [
    "## Working with Tmux Windows and Panes\n",
    "\n",
    "When you start a new Tmux session, by default, it creates a single window with a shell in it.\\\n",
    "默认情况下，当您启动一个新的Tmux session时，它会创建一个包含shell的窗口。\n",
    "\n",
    "To create a new window with shell type `Ctrl + b c`, the first available number from the range `0...9` will be assigned to it.\\\n",
    "要创建shell类型为`Ctrl + b c`的新窗口，第一个可用的数字范围为`0...9`将被分配给它。\n",
    "\n",
    "A list of all windows is shown on the status line at the bottom of the screen.\\\n",
    "所有窗口的列表显示在屏幕底部的状态行中。\n",
    "\n",
    "Below are some most common commands for managing Tmux windows and panes:\\\n",
    "下面是一些管理Tmux窗口和窗格最常见的命令:\n",
    "\n",
    "* `Ctrl+b c`: Create a new window (with shell)\\\n",
    "创建一个新窗口（使用shell）\n",
    "* `Ctrl+b w`: Choose window from a list\n",
    "* `Ctrl+b 0`: Switch to window 0 (by number)\n",
    "* `Ctrl+b ,`: Rename the current window\n",
    "* `Ctrl+b %`: Split current pane horizontally into two panes\n",
    "* `Ctrl+b \"`: Split current pane vertically into two panes\n",
    "* `Ctrl+b o`: Go to the next pane\n",
    "* `Ctrl+b ;`: Toggle between the current and previous pane\n",
    "* `Ctrl+b x`: Close the current pane\\\n",
    "关闭当前pane"
   ]
  },
  {
   "cell_type": "markdown",
   "metadata": {},
   "source": [
    "## Customizing Tmux\n",
    "\n",
    "When Tmux is started, it reads its configuration parameters from `~/.tmux.conf` if the file is present.\\\n",
    "当Tmux启动时，它从`~/.tmux.conf`中读取配置参数，如果文件存在\n",
    "\n",
    "Here is a sample `~/.tmux.conf` configuration with customized status line and few additional options:\\\n",
    "下面是一个`~/.tmux.conf`配置示例，带有自定义状态行和一些附加选项:\n",
    "```shell\n",
    "# Improve colors\n",
    "set -g default-terminal 'screen-256color'\n",
    "\n",
    "# Set scrollback buffer to 10000\n",
    "set -g history-limit 10000\n",
    "\n",
    "# Customize the status line\n",
    "set -g status-fg  green\n",
    "set -g status-bg  black\n",
    "```"
   ]
  }
 ],
 "metadata": {
  "kernelspec": {
   "display_name": "Python 3",
   "language": "python",
   "name": "python3"
  },
  "language_info": {
   "codemirror_mode": {
    "name": "ipython",
    "version": 3
   },
   "file_extension": ".py",
   "mimetype": "text/x-python",
   "name": "python",
   "nbconvert_exporter": "python",
   "pygments_lexer": "ipython3",
   "version": "3.8.8"
  },
  "toc": {
   "base_numbering": 1,
   "nav_menu": {},
   "number_sections": true,
   "sideBar": true,
   "skip_h1_title": true,
   "title_cell": "Table of Contents",
   "title_sidebar": "Contents",
   "toc_cell": false,
   "toc_position": {},
   "toc_section_display": true,
   "toc_window_display": false
  }
 },
 "nbformat": 4,
 "nbformat_minor": 4
}
