{
 "cells": [
  {
   "cell_type": "markdown",
   "metadata": {},
   "source": [
    "# Ansible | Ansible Use Cases\n",
    "\n",
    "[Ansible | Ansible Use Cases](https://www.ansible.com/use-cases)"
   ]
  },
  {
   "cell_type": "markdown",
   "metadata": {},
   "source": [
    "## PROVISIONING\n",
    "\n",
    "Your apps have to live somewhere. If you’re PXE booting and kickstarting bare-metal servers or VMs, or creating virtual or cloud instances from templates, Ansible and Red Hat® Ansible® Tower help streamline the process.\\\n",
    "你的应用程序必须有固定的位置。如果您正在使用PXE启动裸金属服务器或虚拟机，或从模板创建虚拟或云实例，Ansible和Red Hat®Ansible®Tower可以帮助您简化流程。"
   ]
  },
  {
   "cell_type": "markdown",
   "metadata": {},
   "source": [
    "## CONFIGURATION MANAGEMENT\n",
    "\n",
    "Centralizing configuration file management and deployment is a common use case for Ansible, and it’s how many power users are first introduced to the Ansible automation platform.\\\n",
    "集中配置文件管理和部署是Ansible的一个常见用例，也是很多高级用户首次被引入Ansible自动化平台的原因。"
   ]
  },
  {
   "cell_type": "markdown",
   "metadata": {},
   "source": [
    "## APPLICATION DEPLOYMENT\n",
    "\n",
    "When you define your application with Ansible, and manage the deployment with Ansible Tower, teams are able to effectively manage the entire application lifecycle from development to production.\\\n",
    "当你用Ansible定义你的应用程序，并用Ansible Tower管理部署时，团队能够有效地管理从开发到生产的整个应用程序生命周期。"
   ]
  },
  {
   "cell_type": "markdown",
   "metadata": {},
   "source": [
    "## CONTINUOUS DELIVERY\n",
    "\n",
    "Creating a CI/CD pipeline requires buy-in from numerous teams. You can’t do it without a simple automation platform that everyone in your organization can use. Ansible Playbooks keep your applications properly deployed (and managed) throughout their entire lifecycle.\\\n",
    "创建CI/CD管道需要来自多个团队的支持。如果没有组织中每个人都能使用的简单自动化平台，您就无法做到这一点。Ansible Playbooks会在应用程序的整个生命周期中正确地部署(和管理)应用程序。"
   ]
  },
  {
   "cell_type": "markdown",
   "metadata": {},
   "source": [
    "## SECURITY AUTOMATION\n",
    "When you define your security policy in Ansible, scanning and remediation of site-wide security policy can be integrated into other automated processes and instead of being an afterthought, it’ll be integral in everything that is deployed.\\\n",
    "当您在Ansible中定义安全策略时，站点范围的安全策略的扫描和修复可以集成到其他自动化流程中，而不是事后考虑，它将集成到部署的所有内容中。"
   ]
  },
  {
   "cell_type": "markdown",
   "metadata": {},
   "source": [
    "## ORCHESTRATION\n",
    "\n",
    "Configurations alone don’t define your environment. You need to define how multiple configurations interact and ensure the disparate pieces can be managed as a whole. Out of complexity and chaos, Ansible brings order.\\\n",
    "配置本身不能定义您的环境。您需要定义多个配置如何交互，并确保可以将不同的部分作为一个整体进行管理。从复杂和混乱中，Ansible带来了秩序。"
   ]
  }
 ],
 "metadata": {
  "kernelspec": {
   "display_name": "Python 3",
   "language": "python",
   "name": "python3"
  },
  "language_info": {
   "codemirror_mode": {
    "name": "ipython",
    "version": 3
   },
   "file_extension": ".py",
   "mimetype": "text/x-python",
   "name": "python",
   "nbconvert_exporter": "python",
   "pygments_lexer": "ipython3",
   "version": "3.8.8"
  },
  "toc": {
   "base_numbering": 1,
   "nav_menu": {},
   "number_sections": true,
   "sideBar": true,
   "skip_h1_title": false,
   "title_cell": "Table of Contents",
   "title_sidebar": "Contents",
   "toc_cell": false,
   "toc_position": {},
   "toc_section_display": true,
   "toc_window_display": false
  }
 },
 "nbformat": 4,
 "nbformat_minor": 4
}
