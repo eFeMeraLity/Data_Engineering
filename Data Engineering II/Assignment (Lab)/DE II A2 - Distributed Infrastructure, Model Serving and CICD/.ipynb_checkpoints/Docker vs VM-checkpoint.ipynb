{
 "cells": [
  {
   "cell_type": "markdown",
   "metadata": {},
   "source": [
    "Contents\n",
    "* [7 Cases When You Should Not Use Docker](https://www.freecodecamp.org/news/7-cases-when-not-to-use-docker/)"
   ]
  },
  {
   "cell_type": "markdown",
   "metadata": {},
   "source": [
    "# 7 Cases When You Should Not Use Docker\n",
    "\n",
    "[7 Cases When You Should Not Use Docker](https://www.freecodecamp.org/news/7-cases-when-not-to-use-docker/)"
   ]
  },
  {
   "cell_type": "markdown",
   "metadata": {},
   "source": [
    "## Do Not Use Docker if You Need to Boost Speed\n",
    "不要使用Docker，如果你需要提高速度\n",
    "\n",
    "Docker containers are smaller and require fewer resources than a virtual machine with a server and a database. At the same time, Docker will use as much system resources as the host’s kernel scheduler will allow. You should not expect Docker to speed up an application in any way.\\\n",
    "与带有服务器和数据库的虚拟机相比，Docker容器更小，需要的资源更少。同时，Docker将使用主机内核调度程序允许的尽可能多的系统资源。你不应该指望Docker以任何方式加速应用程序。\n",
    "\n",
    "What is more, Docker might even make it slower. If you are working with it, you should set limits on how much memory, CPU, or block IO the container can use. Otherwise, if the kernel detects that the host machine’s memory is running too low to perform important system functions, it could start killing important processes. If the wrong process is killed (including the Docker itself), the system will be unstable.\\\n",
    "更重要的是，Docker甚至可能让它变慢。如果您正在使用它，您应该设置容器可以使用多少内存、CPU或块IO的限制。否则，如果内核检测到主机的内存运行得太低，无法执行重要的系统功能，它可能会开始终止重要的进程。如果错误的进程被终止(包括Docker本身)，系统将不稳定。\n",
    "\n",
    "Unfortunately, Docker’s memory adjustments – the out-of-memory priority on the Docker daemon – do not solve this issue. By contrast, an additional layer between an application and the operating system could also result in speed reduction. Yet, this decrease will be insignificant. Docker containers are not fully isolated and do not contain a complete operating system like any virtual machine.\\\n",
    "不幸的是，Docker的内存调整——Docker守护进程的内存不足优先级——并不能解决这个问题。相比之下，应用程序和操作系统之间的附加层也可能导致速度下降。然而，这种减少将是微不足道的。Docker容器不是完全隔离的，也不像任何虚拟机那样包含一个完整的操作系统。"
   ]
  },
  {
   "cell_type": "markdown",
   "metadata": {},
   "source": [
    "## Do Not Use Docker if You Prioritize Security\n",
    "不要使用Docker，如果你优先考虑安全性\n",
    "\n",
    "The greatest Docker security advantage is that it breaks the app into smaller parts. If the security of one part is compromised, the rest of them will not be affected.\\\n",
    "Docker最大的安全优势是它将应用程序分解成更小的部分。如果其中一部分的安全性受到损害，其他部分不会受到影响。\n",
    "\n",
    "However, while isolated processes in containers promise improved security, all containers share access to a single host operating system. You risk running Docker containers with incomplete isolation. Any malicious code can get access to your computer memory.\\\n",
    "然而，尽管容器中的隔离进程承诺提高安全性，但所有容器共享对单个主机操作系统的访问。运行不完全隔离的Docker容器是有风险的。任何恶意代码都可以访问您的计算机内存。\n",
    "\n",
    "There is a popular practice to run a lot of containers in a single environment. This is how you make your app predisposed to the Resource Abuse type of attacks unless you limit the resource container capabilities. For maximum efficiency and isolation, each container should address one specific area of concern.\\\n",
    "在单个环境中运行大量容器是一种流行的实践。这就是你如何使你的应用程序预先倾向于资源滥用类型的攻击，除非你限制资源容器的能力。为了获得最大的效率和隔离，每个容器都应该处理一个特定的关注领域。\n",
    "\n",
    "Another issue is Docker’s default configuration – users are not namespaced. Namespaces let software resources use other resources only if they belong to a specific namespace.\\\n",
    "另一个问题是Docker的默认配置——用户没有命名空间。命名空间允许软件资源使用属于特定命名空间的其他资源。\n",
    "\n",
    "Running applications with Docker implies running the Docker daemon with root privileges. Any processes that break out of Docker container will have the same privileges on the host as it did in the container. Running your processes inside the containers as a non-privileged user cannot guarantee security. It depends on the capabilities you add or remove. To mitigate the risks of Docker container breakout, you should not download ready-to-use containers from untrusted sources.\\\n",
    "使用Docker运行应用程序意味着使用根权限运行Docker守护进程。任何脱离Docker容器的进程都将在宿主上拥有与在容器中相同的特权。在容器内以非特权用户的身份运行进程不能保证安全性。这取决于您添加或删除的功能。为了降低Docker容器中断的风险，你不应该从不可信的来源下载现成的容器。"
   ]
  },
  {
   "cell_type": "markdown",
   "metadata": {},
   "source": [
    "## Do Not Use Docker if You Want to Light Up Development and Debugging\n",
    "不要使用Docker，如果你想点亮开发和调试\n",
    "\n",
    "Docker was created by developers and for developers. It provides environment stability: a container on the development machine will work exactly the same on staging, production, or any other environment. This eliminates the problem of various program versioning in different environments.\\\n",
    "Docker是由开发人员创建并为开发人员服务的。它提供了环境稳定性:开发机器上的容器在登台、生产或任何其他环境上的工作完全相同。这消除了在不同环境中进行不同程序版本控制的问题。\n",
    "\n",
    "With Docker’s help, you can easily add a new dependency to your application. No developer on your team will need to repeat this manipulation on their machine. Everything will be up and running in the container and distributed to the entire team.\\\n",
    "在Docker的帮助下，您可以轻松地向应用程序添加新的依赖项。团队中的任何开发人员都不需要在他们的机器上重复此操作。所有的东西都将在容器中启动并运行，并分发给整个团队。\n",
    "\n",
    "At the same time, you have to do some extra setup to code your app in Docker. Moreover, with Docker debugging, you have to configure logs output and set up debugging ports. You may also need to map ports for your applications and services in containers. So, if you have a complicated and tedious deployment process, Docker will help you out a lot. If you have a simple app, it just adds unnecessary complexity.\\\n",
    "与此同时，你必须做一些额外的设置来在Docker中编写应用程序。此外，在使用Docker调试时，您必须配置日志输出并设置调试端口。您可能还需要在容器中映射应用程序和服务的端口。因此，如果您有一个复杂和繁琐的部署过程，Docker将帮助您很多。如果你有一个简单的应用程序，它只会增加不必要的复杂性。"
   ]
  },
  {
   "cell_type": "markdown",
   "metadata": {},
   "source": [
    "## Do Not Use Docker if You Need to Use Different Operating Systems or Kernels\n",
    "如果你需要使用不同的操作系统或内核，不要使用Docker\n",
    "\n",
    "With virtual machines, the hypervisor can abstract an entire device. You can use Microsoft Azure to run both instances of Windows Server and Linux Server at the same time. Docker image, however, requires the same operating system it was created for.\\\n",
    "使用虚拟机，管理程序可以对整个设备进行抽象。您可以使用Microsoft Azure同时运行Windows Server和Linux Server的两个实例。然而，Docker映像需要与创建它时相同的操作系统。\n",
    "\n",
    "\n",
    "There is a large database of Docker container images –  Docker Hub. Yet, if an image was created on Linux Ubuntu, it will run only on the exact same Ubuntu.\\\n",
    "有一个大型的Docker容器映像数据库- Docker Hub。但是，如果一个映像是在Linux Ubuntu上创建的，那么它只能在完全相同的Ubuntu上运行。\n",
    "\n",
    "\n",
    "If an app is developed on Windows, but the production runs on Linux, you will not be able to use Docker effectively. Sometimes, it is easier to set up a server if you have several static apps.\\\n",
    "如果一个应用程序是在Windows上开发的，但是产品运行在Linux上，你将不能有效地使用Docker。有时，如果您有几个静态应用程序，设置一个服务器会更容易。"
   ]
  },
  {
   "cell_type": "markdown",
   "metadata": {},
   "source": [
    "## Do Not Use Docker if You Have a Lot of Valuable Data to Store\n",
    "如果你有很多有价值的数据要存储，不要使用Docker\n",
    "\n",
    "By design, all Docker files are created inside a container and stored on a writable container layer. It may be difficult to retrieve the data out of the container if a different process needs it. Also, the writable layer of a container is connected to the host machine which the container is running on. If you need to move the data elsewhere, you cannot do it easily. More than that, all the data stored inside a container will be lost forever once the container shuts down.\\\n",
    "按照设计，所有Docker文件都是在一个容器中创建的，并存储在一个可写的容器层上。如果不同的进程需要数据，则很难从容器中检索数据。此外，容器的可写层连接到运行容器的主机。如果您需要将数据移到其他地方，那么就不容易做到。更重要的是，一旦容器关闭，存储在容器内的所有数据将永远丢失。\n",
    "\n",
    "You have to think of ways to save your data somewhere else first. To keep data safe in Docker, you need to employ an additional tool – Docker Data Volumes. Yet, this solution is still quite clumsy and needs to be improved.\\\n",
    "你必须先想办法把数据保存到其他地方。为了在Docker中保证数据的安全，你需要使用一个额外的工具——Docker data Volumes。然而，这个解决方案仍然相当笨拙，需要改进。"
   ]
  },
  {
   "cell_type": "markdown",
   "metadata": {},
   "source": [
    "## Do Not Use Docker if You Are Looking for The Easiest Technology to Manage\n",
    "不要使用Docker，如果你正在寻找最容易管理的技术\n",
    "\n",
    "Being introduced in 2012, Docker is still a new technology. As a developer, you might have to update Docker versions regularly. Unfortunately, backward compatibility is not guaranteed. Moreover, the documentation is falling behind the advancement of the technology. As a developer, you will have to figure some things out yourself.\\\n",
    "Docker在2012年被引入，仍然是一项新技术。作为一名开发人员，您可能需要定期更新Docker版本。不幸的是，向后兼容性无法保证。此外，文件的编制也落后于技术的发展。作为一名开发人员，你必须自己解决一些问题。\n",
    "\n",
    "In addition, the monitoring options that Docker offers are quite poor. You can get a quick insight into some simple statistics. Yet, if you want to see some advanced monitoring features, Docker has nothing to offer.\\\n",
    "此外，Docker提供的监视选项非常差。您可以快速了解一些简单的统计数据。但是，如果您想了解一些高级的监控功能，Docker没有提供任何功能。\n",
    "\n",
    "Also, in the case of a large and complex application, the implementation of Docker comes at a cost. Building and maintaining communication between numerous containers on numerous servers will take a lot of time and effort. Yet, there is a helpful tool, which makes it easier to work with multi-container Docker apps, – Docker Compose. Docker Compose defines services, networks, and volumes in a single YAML file.\\\n",
    "此外，在大型和复杂的应用程序中，Docker的实现是有代价的。在多个服务器上构建和维护多个容器之间的通信将花费大量的时间和精力。然而，有一个有用的工具，它使多容器Docker应用程序更容易工作，Docker Compose。Docker Compose在一个单独的YAML文件中定义了服务、网络和卷。\n",
    "\n",
    "Nonetheless, the Docker ecosystem is quite fractured – not all the supporting container products work well with one another. Each product is backed by a certain company or community. The heated competition between those results in product incompatibility.\\\n",
    "尽管如此，Docker的生态系统是相当分裂的——并不是所有的支持容器产品都能很好地相互配合。每个产品都有特定的公司或社区支持。它们之间的激烈竞争导致了产品的不兼容性。"
   ]
  },
  {
   "cell_type": "markdown",
   "metadata": {},
   "source": [
    "# A Practical Guide to Choosing between Docker Containers and VMs\n",
    "\n",
    "[A Practical Guide to Choosing between Docker Containers and VMs](https://www.weave.works/blog/a-practical-guide-to-choosing-between-docker-containers-and-vms)"
   ]
  },
  {
   "cell_type": "markdown",
   "metadata": {},
   "source": [
    "## When to stick with virtual machines\n",
    "\n",
    "Let’s look at some reasons why you might forgo Docker and stick with your virtual machines."
   ]
  },
  {
   "cell_type": "markdown",
   "metadata": {},
   "source": [
    "### Security\n",
    "安全\n",
    "\n",
    "A full discussion of the security merits of virtual machines as compared to Docker is beyond the scope of this article. But suffice it to say that, essentially, virtual machines are more isolated from each other and from the host system than are Docker containers. That is because virtual machines, as we’ve noted, don’t directly share any kernels or other resources with the host system.\\\n",
    "与Docker相比，虚拟机的安全性优点超出了本文的讨论范围。但是可以这样说，从本质上讲，虚拟机彼此之间以及与主机系统之间的隔离要比Docker容器更加严重。这是因为，正如我们已经注意到的，虚拟机并不直接与主机系统共享任何内核或其他资源。\n",
    "\n",
    "For this reason, virtual machines are arguably more secure overall than containers. Although Docker provides various tools to help isolate containers and prevent a breach within one container from escalating into others, at the end of the day, containers aren’t isolated from a security perspective in the same way that virtual machines are.\\\n",
    "出于这个原因，可以说虚拟机总体上比容器更安全。尽管Docker提供了各种工具来帮助隔离容器，防止一个容器内的漏洞升级到其他容器，但最终，从安全角度来看，容器并没有像虚拟机那样被隔离。"
   ]
  },
  {
   "cell_type": "markdown",
   "metadata": {},
   "source": [
    "### Mixing and matching Linux and Windows portability\n",
    "\n",
    "Today, most virtual machine platforms work on every major operating system, and you can run any type of operating system that you want inside your virtual machines. Thus, you could deploy a Windows virtual machine on Linux, or vice versa. This portability is handy if you have an infrastructure where you need to be able to deploy one type of operating system on another.\\\n",
    "现在，大多数虚拟机平台可以在每个主要的操作系统上运行，您可以在虚拟机中运行任何类型的操作系统。因此，您可以在Linux上部署Windows虚拟机，反之亦然。如果您有一个基础设施，需要能够将一种类型的操作系统部署到另一种类型的操作系统上，那么这种可移植性很方便。\n",
    "\n",
    "Docker is not as portable. Although in some ways Docker reduces dependence on your operating system (for example, you could run the same Docker container on Ubuntu or CentOS, even though each of these Linux distributions uses a different type of package management system), Docker doesn’t provide portability across operating systems. Docker containers for Linux only work on Linux hosts, and the same holds true for Windows. (Plus, Docker only works on certain versions of Windows, which is another portability limitation.)\\\n",
    "Docker不具有可移植性。虽然在某些方面Docker减少了对你的操作系统的依赖(例如，你可以在Ubuntu或CentOS上运行相同的Docker容器，即使这些Linux发行版使用不同类型的包管理系统)，Docker不提供跨操作系统的可移植性。Linux的Docker容器只能在Linux主机上工作，对于Windows也是如此。(另外，Docker只能在特定版本的Windows上运行，这是另一个可移植性的限制。)"
   ]
  },
  {
   "cell_type": "markdown",
   "metadata": {},
   "source": [
    "### Rollback features\n",
    "\n",
    "Many modern virtual machine platforms make it easy to “snapshot” virtual machines at a given point in time, and to “roll back” a machine when desired. This can be useful when dealing with data corruption or security breaches, among other issues.\\\n",
    "许多现代虚拟机平台使得在给定时间点“快照”虚拟机和在需要时“回滚”虚拟机变得很容易。这在处理数据损坏或安全漏洞等问题时非常有用。\n",
    "\n",
    "Docker doesn’t offer the same type of functionality. You can roll back container images, but because containers store their data outside of the image in most cases, rolling back an image won’t help you recover data that was lost by a running application. It also won’t necessarily help you stop a security breach, unless the breach was caused by an issue within a particular version of your container image.\\\n",
    "Docker不提供相同类型的功能。您可以回滚容器映像，但是由于容器在大多数情况下将其数据存储在映像之外，回滚映像无法帮助您恢复因运行的应用程序而丢失的数据。它也不一定能帮助您阻止安全漏洞，除非这种漏洞是由容器映像的特定版本中的问题引起的。"
   ]
  },
  {
   "cell_type": "markdown",
   "metadata": {},
   "source": [
    "# Docker Containers vs. Virtual Machines\n",
    "[Docker Containers vs. Virtual Machines](https://www.aquasec.com/cloud-native-academy/docker-container/docker-containers-vs-virtual-machines/)"
   ]
  },
  {
   "cell_type": "markdown",
   "metadata": {},
   "source": [
    "# When Not to Use Docker: Understanding the Limitations of Containers\n",
    "[When Not to Use Docker: Understanding the Limitations of Containers](https://www.channelfutures.com/open-source/when-not-to-use-docker-understanding-the-limitations-of-containers)\n",
    "\n",
    "Docker's disadvantages and limitations include lack of cross-platform support, performance overhead and poor support for graphical interfaces.\\\n",
    "Docker的缺点和限制包括缺乏跨平台支持、性能开销和对图形界面的不支持。\n",
    "\n",
    "* Run applications as fast as a bare-metal server. Docker containers have less overhead than virtual machines. But Docker does not have zero overhead. The only way to get true bare-metal speed from an application is to run it directly on a bare-metal server, without using containers or virtual machines.\\\n",
    "像裸金属服务器一样快速运行应用程序。Docker容器的开销比虚拟机小。但是Docker的开销不是零。从应用程序获得真正的裸金属速度的唯一方法是直接在裸金属服务器上运行它，而不使用容器或虚拟机。\n",
    "\n",
    "* Provide cross-platform compatibility. An application designed to run in a Docker container on Windows can’t run on Linux, and vice versa. Virtual machines are not subject to this limitation. In highly heterogeneous environments composed of both both Windows and Linux servers, this makes Docker less attractive.\\\n",
    "提供跨平台的兼容性。在Windows上运行在Docker容器中的应用程序不能在Linux上运行，反之亦然。虚拟机不受此限制。在由Windows和Linux服务器组成的高度异构的环境中，这使得Docker缺乏吸引力。\n",
    "\n",
    "* Run applications with graphical interfaces. Docker was designed as a solution for hosting applications that run on the command line. There are some tricks you can use (such as X11 forwarding) to make it possible to run a a graphical interface inside a Docker container, but this is clunky. (You could also run a Web interface, which is easier to do, but then you have to run a Web server and your interface options will still be limited.) Practically speaking, Docker is not a good solution for applications that require rich interfaces.\\\n",
    "运行带有图形界面的应用程序。Docker被设计为一种用于托管在命令行上运行的应用程序的解决方案。您可以使用一些技巧(如X11转发)来在Docker容器中运行图形界面，但这很笨拙。(你也可以运行一个Web界面，这更容易做到，但是你必须运行一个Web服务器，你的界面选项仍然是有限的。)实际上，Docker对于需要富接口的应用程序来说并不是一个好的解决方案。\n",
    "\n",
    "* Solve all your security problems. Docker can improve security in some ways by isolating applications from the host system and from each other. Containers also make it easy to break your application into small parts, so that if one part is compromised, the rest is not necessarily affected. Yet Docker also creates new security challenges — such as the difficulty of monitoring so many moving pieces within a dynamic, large-scale Docker environment. Before moving workloads to Docker, you need to evaluate the Docker-specific security risks and make sure you can handle them.\\\n",
    "解决您所有的安全问题。通过将应用程序与主机系统以及应用程序之间的相互隔离，Docker可以在某些方面提高安全性。容器还可以很容易地将您的应用程序分解成小的部分，因此，如果其中一部分受到影响，其他部分也不一定会受到影响。然而，Docker也带来了新的安全挑战——比如，在一个动态的、大规模的Docker环境中监视这么多移动部件的难度。在将工作负载转移到Docker之前，您需要评估特定于Docker的安全风险，并确保您能够处理它们。"
   ]
  },
  {
   "cell_type": "markdown",
   "metadata": {},
   "source": [
    "# Why you should use Docker and containers\n",
    "\n",
    "[Why you should use Docker and containers](https://www.infoworld.com/article/3310941/why-you-should-use-docker-and-containers)\n",
    "\n",
    "Learn how lightweight, portable, self-contained Docker containers improve software development, application deployment, and business agility\\\n",
    "了解轻量级、可移植、自包含的Docker容器如何改进软件开发、应用程序部署和业务敏捷性"
   ]
  },
  {
   "cell_type": "markdown",
   "metadata": {},
   "source": [
    "## Docker container benefits\n",
    "\n",
    "Containers work a little like VMs, but in a far more specific and granular way. They isolate a single application and its dependencies—all of the external software libraries the app requires to run—both from the underlying operating system and from other containers. All of the containerized apps share a single, common operating system (either Linux or Windows), but they are compartmentalized from one another and from the system at large.\\\n",
    "容器的工作方式有点像vm，但是更具体、粒度更细。它们将单个应用程序及其依赖项(应用程序运行所需的所有外部软件库)从底层操作系统和其他容器中隔离开来。所有容器化的应用程序共享一个单一的、通用的操作系统(Linux或Windows)，但它们彼此之间以及整个系统之间是分开的。\n",
    "\n",
    "The benefits of Docker containers show up in many places. Here are some of the major advantages of Docker and containers:\\\n",
    "Docker容器的好处体现在很多地方。以下是Docker和容器的一些主要优势:"
   ]
  },
  {
   "cell_type": "markdown",
   "metadata": {},
   "source": [
    "### Docker enables more efficient use of system resources\n",
    "Docker可以更有效地利用系统资源\n",
    "\n",
    "Instances of containerized apps use far less memory than virtual machines, they start up and stop more quickly, and they can be packed far more densely on their host hardware. All of this amounts to less spending on IT.\\\n",
    "与虚拟机相比，容器化的应用实例使用的内存要少得多，它们启动和停止的速度更快，而且它们可以在主机硬件上更密集地打包。所有这些都意味着在IT方面的支出减少。\n",
    "\n",
    "The cost savings will vary depending on what apps are in play and how resource-intensive they may be, but containers invariably work out as more efficient than VMs. It’s also possible to save on costs of software licenses, because you need many fewer operating system instances to run the same workloads.\\\n",
    "节省的成本取决于应用的类型和它们的资源消耗程度，但容器总是比vm更有效率。还可以节省软件许可成本，因为运行相同的工作负载需要更少的操作系统实例。"
   ]
  },
  {
   "cell_type": "markdown",
   "metadata": {},
   "source": [
    "### Docker enables faster software delivery cycles\n",
    "Docker可以实现更快的软件交付周期\n",
    "\n",
    "Enterprise software must respond quickly to changing conditions. That means both easy scaling to meet demand and easy updating to add new features as the business requires.\\\n",
    "企业软件必须快速响应变化的条件。这意味着既可以方便地扩展以满足需求，也可以方便地更新以根据业务需要添加新功能。\n",
    "\n",
    "Docker containers make it easy to put new versions of software, with new business features, into production quickly—and to quickly roll back to a previous version if you need to. They also make it easier to implement strategies like blue/green deployments.\\\n",
    "Docker容器可以方便地将具有新业务特性的新版本软件快速投入生产，如果需要，还可以快速回滚到以前的版本。它们也使得像蓝/绿部署这样的策略更容易实现。"
   ]
  },
  {
   "cell_type": "markdown",
   "metadata": {},
   "source": [
    "### Docker enables application portability\n",
    "Docker支持应用程序的可移植性\n",
    "\n",
    "Where you run an enterprise application matters—behind the firewall, for the sake of keeping things close by and secure; or out in a public cloud, for easy public access and high elasticity of resources. Because Docker containers encapsulate everything an application needs to run (and only those things), they allow applications to be shuttled easily between environments. Any host with the Docker runtime installed—be it a developer’s laptop or a public cloud instance—can run a Docker container.\\\n",
    "在哪里运行企业应用程序是很重要的——在防火墙之后，为了让东西离得更近、更安全;或者在公共云中外出，方便公众访问和高弹性的资源。因为Docker容器封装了应用程序需要运行的所有东西（而且只封装了那些东西），所以它们允许应用程序轻松地在不同环境之间穿梭。任何安装了Docker运行时的主机——不管是开发者的笔记本电脑还是公共云实例——都可以运行Docker容器。"
   ]
  },
  {
   "cell_type": "markdown",
   "metadata": {},
   "source": [
    "### Docker shines for microservices architecture\n",
    "Docker在微服务架构方面非常出色\n",
    "\n",
    "Lightweight, portable, and self-contained, Docker containers make it easier to build software along forward-thinking lines, so that you’re not trying to solve tomorrow’s problems with yesterday’s development methods.\\\n",
    "轻量级、可移植和自包含的Docker容器使构建软件更容易，因此您不会试图用昨天的开发方法来解决明天的问题。\n",
    "\n",
    "One of the software patterns containers make easier is microservices, where applications are constituted from many loosely coupled components. By decomposing traditional, “monolithic” applications into separate services, microservices allow the different parts of a line-of-business app to be scaled, modified, and serviced separately—by separate teams and on separate timelines, if that suits the needs of the business.\\\n",
    "软件模式容器使微服务变得更容易，其中的应用程序由许多松散耦合的组件组成。通过将传统的“单片”应用程序分解为独立的服务，微服务允许业务线应用程序的不同部分被单独伸缩、修改和服务——由单独的团队和在单独的时间轴上，如果这符合业务需求的话。\n",
    "\n",
    "Containers aren’t required to implement microservices, but they are perfectly suited to the microservices approach and to agile development processes generally.\\\n",
    "实现微服务并不需要容器，但是它们非常适合微服务方法和敏捷开发流程。"
   ]
  },
  {
   "cell_type": "markdown",
   "metadata": {},
   "source": [
    "## Problems Docker containers don’t solve\n",
    "\n",
    "The first thing to keep in mind about containers is the same piece of advice that applies to any software technology: This isn’t a silver bullet. Docker containers by themselves can’t solve every problem. In particular:\\\n",
    "关于容器要记住的第一件事是适用于任何软件技术的同一条建议:这不是灵丹妙药。Docker容器本身并不能解决所有问题。特别是:"
   ]
  },
  {
   "cell_type": "markdown",
   "metadata": {},
   "source": [
    "### Docker won’t fix your security issues\n",
    "Docker不会解决你的安全问题\n",
    "\n",
    "Software in a container can be more secure by default than software run on bare metal, but that’s like saying a house with its doors locked is more secure than a house with its doors unlocked. It doesn’t say anything about the condition of the neighborhood, the visible presence of valuables tempting to a thief, the routines of the people living there, and so on. Containers can add a layer of security to an app, but only as part of a general program of securing an app in context.\\\n",
    "在默认情况下，容器中的软件可能比在裸金属上运行的软件更安全，但这就像说一个锁着门的房子比一个没有锁的房子更安全一样。它没有提到附近的情况，有什么值钱的东西会吸引小偷，住在那里的人的日常生活，等等。容器可以为应用程序添加一层安全，但只能作为保护应用程序的通用程序的一部分。"
   ]
  },
  {
   "cell_type": "markdown",
   "metadata": {},
   "source": [
    "### Docker doesn’t turn applications magically into microservices\n",
    "Docker不会神奇地把应用程序变成微服务\n",
    "\n",
    "If you containerize an existing app, that can reduce its resource consumption and make it easier to deploy. But it doesn’t automatically change the design of the app, or how it interacts with other apps. Those benefits only come through developer time and effort, not just a mandate to move everything into containers.\\\n",
    "如果您将现有的应用程序容器化，可以减少其资源消耗，并使其更容易部署。但它不会自动改变应用程序的设计，或与其他应用程序的交互方式。这些好处只来自于开发人员的时间和精力，而不是强制将所有东西都移到容器中。\n",
    "\n",
    "Put an old-school monolithic or SOA-style app in a container, and you end up with, well, an old app in a container. That doesn’t make it any more useful to your work; if anything, it might make it less useful.\\\n",
    "将一个老式的单片或soa风格的应用程序放在一个容器中，你最终会得到一个老式的应用程序放在一个容器中。这并不会让它对你的工作更有用;如果有什么区别的话，它可能会让它变得不那么有用。"
   ]
  },
  {
   "cell_type": "markdown",
   "metadata": {},
   "source": [
    "### Docker isn’t a substitute for virtual machines\n",
    "Docker不是虚拟机的替代品\n",
    "\n",
    "One persistent myth of containers is that they make VMs obsolete. Many apps that used to run in a VM can be moved into a container, but that doesn’t mean all of them can or should. If you’re in an industry with heavy regulatory requirements, for instance, you might not be able to swap containers for VMs, because VMs provide more isolation than containers.\\\n",
    "关于容器的一个持久的神话是，它们使vm过时了。许多曾经在VM中运行的应用程序可以移动到一个容器中，但这并不意味着它们都可以或应该移动到一个容器中。例如，如果您处在一个有大量监管要求的行业中，您可能无法将容器交换给vm，因为vm比容器提供更多的隔离。"
   ]
  },
  {
   "cell_type": "markdown",
   "metadata": {},
   "source": [
    "## Docker Containers vs. VMs\n",
    "\n",
    "At last, we arrive at the big question: how are the two different? It all comes down to what you want to do with them. Below, we’ll mention a few advantages of Docker as opposed to a virtual machine (specifically Docker vs. VMware), and vice versa.\\\n",
    "最后，我们得出了一个大问题：这两者有何不同?这一切都取决于你想用它们做什么。下面，我们将提到Docker相对于虚拟机(特别是Docker vs. VMware)的一些优势，反之亦然。\n",
    "\n",
    "For more details and a Docker vs VM comparison, see this page [Docker vs VMWare: How Do They Stack Up?](https://www.upguard.com/blog/docker-vs-vmware-how-do-they-stack-up)"
   ]
  },
  {
   "cell_type": "markdown",
   "metadata": {},
   "source": [
    "### Advantages of Virtual Machines\n",
    "\n",
    "* The tools associated with a virtual machine are easier to access and simpler to work with. Docker has a more complicated tooling ecosystem, that consists of both Docker-managed and third-party tools.\\\n",
    "与虚拟机相关的工具更易于访问和使用。Docker有一个更复杂的工具生态系统，包括Docker管理的和第三方工具。\n",
    "\n",
    "* As mentioned earlier, once you have a virtual machine up and running, you can start a Docker instance within that VM, and run docker container within the VM (which is the predominant method of running containers at present). This way, containers and virtual machines are not mutually exclusive and can co-exist alongside each other.\\\n",
    "正如前面提到的，一旦你有了一个虚拟机并开始运行，你就可以在这个虚拟机上启动一个Docker实例，并在这个虚拟机上运行Docker容器(这是目前运行容器的主要方法)。这样，容器和虚拟机就不会相互排斥，可以共存。"
   ]
  },
  {
   "cell_type": "markdown",
   "metadata": {},
   "source": [
    "### Advantages of Docker Containers\n",
    "\n",
    "* Docker containers are process-isolated and don’t require a hardware hypervisor. This means Docker containers are much smaller and require far fewer resources than a VM.\\\n",
    "Docker容器是进程隔离的，不需要硬件管理程序。这意味着Docker容器比VM小得多，需要的资源也少得多。\n",
    "* Docker is fast. Very fast. While a VM can take an at least a few minutes to boot and be dev-ready, it takes anywhere from a few milliseconds to (at most) a few seconds to start a Docker container from a container image.\\\n",
    "Docker很快。非常快。虽然VM至少需要几分钟才能启动并准备好开发，但从容器映像启动Docker容器需要几毫秒到(最多)几秒。\n",
    "* Containers can be shared across multiple team members, bringing much-needed portability across the development pipeline. This reduces ‘works on my machine’ errors that plague DevOps teams.\\\n",
    "容器可以跨多个团队成员共享，从而在整个开发过程中带来急需的可移植性。这减少了困扰DevOps团队的“在我的机器上工作”错误。\n",
    "\n",
    "For more details, see an in-depth discussion: [How is Docker different from a virtual machine?](https://stackoverflow.com/questions/16047306/how-is-docker-different-from-a-virtual-machine)\n",
    "\n",
    "The road ahead is quickly changing for VMs at least, as Docker is quickly rising in popularity among major corporations. It’s clear that speed and efficiency are the biggest needs for DevOps teams, and Docker is better at providing these over VMs. While it still hasn’t completely replaced virtual machines in production environments, Docker’s potential is being noticed. That isn’t to say that VMs will soon be gone. Rather, Docker and VMs will co-exist next to each other, giving DevOps teams more choices in how to run their cloud-native applications.\\\n",
    "至少对VMs来说，未来的道路正在迅速改变，因为Docker在大公司中的受欢迎程度正在迅速上升。很明显，速度和效率是DevOps团队最大的需求，而Docker更擅长通过vm提供这些。虽然Docker在生产环境中还没有完全取代虚拟机，但它的潜力已经被注意到了。这并不是说虚拟机将很快消失。相反，Docker和vm将彼此共存，让DevOps团队在如何运行云原生应用方面有更多的选择。"
   ]
  },
  {
   "cell_type": "markdown",
   "metadata": {},
   "source": [
    "# What’s the Diff: VMs vs Containers\n",
    "[What’s the Diff: VMs vs Containers](https://www.backblaze.com/blog/vm-vs-containers/)"
   ]
  }
 ],
 "metadata": {
  "kernelspec": {
   "display_name": "Python 3",
   "language": "python",
   "name": "python3"
  },
  "language_info": {
   "codemirror_mode": {
    "name": "ipython",
    "version": 3
   },
   "file_extension": ".py",
   "mimetype": "text/x-python",
   "name": "python",
   "nbconvert_exporter": "python",
   "pygments_lexer": "ipython3",
   "version": "3.8.8"
  },
  "toc": {
   "base_numbering": 1,
   "nav_menu": {},
   "number_sections": true,
   "sideBar": true,
   "skip_h1_title": false,
   "title_cell": "Table of Contents",
   "title_sidebar": "Contents",
   "toc_cell": false,
   "toc_position": {
    "height": "calc(100% - 180px)",
    "left": "10px",
    "top": "150px",
    "width": "304px"
   },
   "toc_section_display": true,
   "toc_window_display": true
  }
 },
 "nbformat": 4,
 "nbformat_minor": 4
}
