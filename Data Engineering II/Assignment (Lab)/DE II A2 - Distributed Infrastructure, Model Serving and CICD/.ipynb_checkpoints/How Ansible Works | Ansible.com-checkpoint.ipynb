{
 "cells": [
  {
   "cell_type": "markdown",
   "metadata": {},
   "source": [
    "# How Ansible Works | Ansible.com\n",
    "\n",
    "[How Ansible Works | Ansible.com](https://www.ansible.com/overview/how-ansible-works)"
   ]
  },
  {
   "cell_type": "markdown",
   "metadata": {},
   "source": [
    "Ansible is a radically simple IT automation engine that automates cloud provisioning, configuration management, application deployment, intra-service orchestration, and many other IT needs.\\\n",
    "Ansible是一个非常简单的IT自动化引擎，它可以自动化云供应、配置管理、应用程序部署、服务内部编排和许多其他IT需求。\n",
    "\n",
    "Designed for multi-tier deployments since day one, Ansible models your IT infrastructure by describing how all of your systems inter-relate, rather than just managing one system at a time.\\\n",
    "从第一天起就为多层部署而设计，Ansible通过描述所有系统如何相互关联来为您的IT基础设施建模，而不是一次只管理一个系统。\n",
    "\n",
    "\n",
    "It uses no agents and no additional custom security infrastructure, so it's easy to deploy - and most importantly, it uses a very simple language (YAML, in the form of Ansible Playbooks) that allow you to describe your automation jobs in a way that approaches plain English.\\\n",
    "它不使用代理，也不使用额外的自定义安全基础设施，因此易于部署——最重要的是，它使用一种非常简单的语言(YAML，以Ansible Playbooks的形式)，允许您以一种接近简单英语的方式描述您的自动化工作。\n",
    "\n",
    "On this page, we'll give you a really quick overview so you can see things in context. For more detail, hop over to [Ansible Documentation](https://docs.ansible.com/).\\\n",
    "在这一页，我们将给你一个非常快速的概述，这样你就可以在上下文中看到事物。欲了解更多细节，请访问[Ansible Documentation](https://docs.ansible.com/)。"
   ]
  },
  {
   "cell_type": "markdown",
   "metadata": {},
   "source": [
    "## EFFICIENT ARCHITECTURE\n",
    "有效的体系结构\n",
    "\n",
    "Ansible works by connecting to your nodes and pushing out small programs, called \"Ansible modules\" to them. These programs are written to be resource models of the desired state of the system. Ansible then executes these modules (over SSH by default), and removes them when finished.\\\n",
    "Ansible的工作方式是连接到你的节点，并向它们推出小程序，称为“Ansible模块”。这些程序被编写成系统期望状态的资源模型。然后Ansible执行这些模块(默认通过SSH)，并在完成时删除它们。\n",
    "\n",
    "Your library of modules can reside on any machine, and there are no servers, daemons, or databases required. Typically you'll work with your favorite terminal program, a text editor, and probably a version control system to keep track of changes to your content.\\\n",
    "您的模块库可以驻留在任何机器上，并且不需要服务器、守护进程或数据库。通常，您会使用您最喜欢的终端程序、文本编辑器，可能还会使用版本控制系统来跟踪内容的更改。"
   ]
  },
  {
   "cell_type": "markdown",
   "metadata": {},
   "source": [
    "## SSH KEYS ARE YOUR FRIENDS\n",
    "SSH密钥是您的朋友\n",
    "\n",
    "Passwords are supported, but SSH keys with ssh-agent are one of the best ways to use Ansible. Though if you want to use Kerberos, that's good too. Lots of options! Root logins are not required, you can login as any user, and then su or sudo to any user.\\\n",
    "支持密码，但是SSH-agent中的SSH密钥是使用Ansible的最佳方式之一。不过，如果您想使用Kerberos，这也很好。很多选择!不需要Root登录，您可以以任何用户的身份登录，然后以su或sudo登录到任何用户。\n",
    "\n",
    "Ansible's \"authorized_key\" module is a great way to use ansible to control what machines can access what hosts. Other options, like kerberos or identity management systems, can also be used.\\\n",
    "Ansible的“authorized_key”模块是使用Ansible来控制哪些机器可以访问哪些主机的一个很好的方法。还可以使用其他选项，如kerberos或身份管理系统。\n",
    "```shell\n",
    "ssh-agent bash\n",
    "ssh-add ~/.ssh/id_rsa\n",
    "```"
   ]
  },
  {
   "cell_type": "markdown",
   "metadata": {},
   "source": [
    "## MANAGE YOUR INVENTORY IN SIMPLE TEXT FILES\n",
    "在简单的文本文件中管理您的库存\n",
    "\n",
    "By default, Ansible represents what machines it manages using a very simple INI file that puts all of your managed machines in groups of your own choosing.\\\n",
    "默认情况下，Ansible使用一个非常简单的INI文件来表示它管理的机器，该文件将所有被管理的机器放入您自己选择的组中。\n",
    "\n",
    "To add new machines, there is no additional SSL signing server involved, so there's never any hassle deciding why a particular machine didn’t get linked up due to obscure NTP or DNS issues.\\\n",
    "要添加新机器，不需要涉及额外的SSL签名服务器，因此永远不会有任何麻烦来决定为什么某个特定的机器没有由于晦涩的NTP或DNS问题而连接起来。\n",
    "\n",
    "If there's another source of truth in your infrastructure, Ansible can also plugin to that, such as drawing inventory, group, and variable information from sources like EC2, Rackspace, OpenStack, and more.\\\n",
    "如果你的基础设施中有其他真实的来源，Ansible也可以加入其中，比如从EC2、Rackspace、OpenStack等来源提取库存、组和变量信息。\n",
    "\n",
    "Here's what a plain text inventory file looks like:\\\n",
    "下面是一个纯文本的库存文件:\n",
    "\n",
    "```shell\n",
    "[webservers]\n",
    "www1.example.com\n",
    "www2.example.com\n",
    "\n",
    "[dbservers]\n",
    "db0.example.com\n",
    "db1.example.com\n",
    "```\n",
    "\n",
    "Once inventory hosts are listed, variables can be assigned to them in simple text files (in a subdirectory called 'group_vars/' or 'host_vars/') or directly in the inventory file.\\\n",
    "一旦列出了库存主机，变量可以在简单的文本文件中(在名为'group_vars/'或'host_vars/'的子目录中)或直接在库存文件中分配给它们。\n",
    "\n",
    "Or, as already mentioned, use a dynamic inventory to pull your inventory from data sources like EC2, Rackspace, or OpenStack.\\\n",
    "或者，如前所述，使用动态库存从数据源(如EC2、Rackspace或OpenStack)中提取库存。"
   ]
  },
  {
   "cell_type": "markdown",
   "metadata": {},
   "source": [
    "## THE BASICS: USING ANSIBLE FOR AD HOC PARALLEL TASK EXECUTION\n",
    "基本内容:使用ansible执行AD hoc并行任务\n",
    "\n",
    "Once you have an instance available, you can talk to it right away, without any additional setup:\\\n",
    "一旦你有一个可用的实例，你可以立即与它交谈，而不需要任何额外的设置:\n",
    "```shell\n",
    "ansible all -m ping \n",
    "ansible foo.example.com -m yum -a \"name=httpd state=installed\"\n",
    "ansible foo.example.com -a \"/usr/sbin/reboot\"\n",
    "```\n",
    "\n",
    "Note that we have access to state-based resource modules as well as running raw commands. These modules are extremely easy to write and Ansible ships with a fleet of them so most of your work is already done.\\\n",
    "注意，我们可以访问基于状态的资源模块，也可以运行原始命令。这些模块非常容易编写，并且Ansible有一个这样的船队，所以您的大部分工作已经完成了。\n",
    "\n",
    "Ansible contains a giant toolbox of built-in modules, well over 750 of them.\\\n",
    "Ansible包含一个巨大的内置模块工具箱，超过750个。"
   ]
  },
  {
   "cell_type": "markdown",
   "metadata": {},
   "source": [
    "## PLAYBOOKS: A SIMPLE+POWERFUL AUTOMATION LANGUAGE\n",
    "Playbooks：一种简单而强大的自动化语言\n",
    "\n",
    "Playbooks can finely orchestrate multiple slices of your infrastructure topology, with very detailed control over how many machines to tackle at a time.  This is where Ansible starts to get most interesting.\\\n",
    "Playbooks可以很好地编排基础结构拓扑的多个部分，对一次处理多少台机器进行非常详细的控制。这就是Ansible最有趣的地方。\n",
    "\n",
    "Ansible's approach to orchestration is one of finely-tuned simplicity, as we believe your automation code should make perfect sense to you years down the road and there should be very little to remember about special syntax or features.\\\n",
    "Ansible的编配方法非常简单，因为我们相信你的自动化代码在未来几年对你来说应该是非常有意义的，关于特殊语法或特性应该没有什么需要记住的。\n",
    "\n",
    "Here's what a playbook looks like. As a reminder, this is only here as a teaser - hop over to docs.ansible.com for the complete documentation and all that's possible.\\\n",
    "剧本是这样的。作为一个提醒，这只是作为一个挑逗-跳转到docs.ansible.com获得完整的文档和所有可能的。"
   ]
  },
  {
   "cell_type": "markdown",
   "metadata": {},
   "source": [
    "# AN EXAMPLE `app_config.yml` MIGHT LOOK LIKE:\n",
    "\n",
    "The Ansible documentation explores this in much greater depth. There’s a LOT more that you can do, including:\\\n",
    "Ansible文档对此进行了更深入的研究。你可以做的还有很多，包括:\n",
    "\n",
    "* Take machines in and out of load balancers and monitoring windows\\\n",
    "让机器进出负载平衡器和监视窗口\n",
    "* Have one server know the IP address of all the others using facts gathered about those particular servers - and use those to dynamically build out configuration files\\\n",
    "是否有一台服务器使用收集到的关于这些特定服务器的事实知道所有其他服务器的IP地址——并使用这些事实动态地构建配置文件\n",
    "* Set some variables and prompt for others, and set defaults for when they are not set\\\n",
    "为其他变量设置一些变量和提示符，并为未设置它们的情况设置缺省值\n",
    "* Use the result of one command to decide whether to run another\\\n",
    "使用一个命令的结果来决定是否运行另一个命令\n",
    "\n",
    "There are lots of advanced possibilities but it's easy to get started.\\\n",
    "有很多高级的可能性，但很容易开始。\n",
    "\n",
    "Most importantly, the language remains readable and transparent, and you never have to do things like declare explicit ordering relationships or write code in a programming language.\\\n",
    "最重要的是，该语言保持了可读性和透明性，您永远不必做诸如声明显式排序关系或用编程语言编写代码之类的事情。"
   ]
  },
  {
   "cell_type": "code",
   "execution_count": null,
   "metadata": {},
   "outputs": [],
   "source": []
  }
 ],
 "metadata": {
  "kernelspec": {
   "display_name": "Python 3",
   "language": "python",
   "name": "python3"
  },
  "language_info": {
   "codemirror_mode": {
    "name": "ipython",
    "version": 3
   },
   "file_extension": ".py",
   "mimetype": "text/x-python",
   "name": "python",
   "nbconvert_exporter": "python",
   "pygments_lexer": "ipython3",
   "version": "3.8.8"
  },
  "toc": {
   "base_numbering": 1,
   "nav_menu": {},
   "number_sections": true,
   "sideBar": true,
   "skip_h1_title": true,
   "title_cell": "Table of Contents",
   "title_sidebar": "Contents",
   "toc_cell": false,
   "toc_position": {},
   "toc_section_display": true,
   "toc_window_display": false
  }
 },
 "nbformat": 4,
 "nbformat_minor": 4
}
