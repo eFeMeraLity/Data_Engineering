{
 "cells": [
  {
   "cell_type": "markdown",
   "metadata": {},
   "source": [
    "# Install the OpenStack command-line clients\n",
    "[Install the OpenStack command-line clients](https://docs.openstack.org/mitaka/user-guide/common/cli_install_openstack_command_line_clients)"
   ]
  },
  {
   "cell_type": "markdown",
   "metadata": {},
   "source": [
    "## Install the prerequisite software\n",
    "\n",
    "Most Linux distributions include packaged versions of the command-line clients that you can install directly, see [Installing from packages](https://docs.openstack.org/mitaka/user-guide/common/cli_install_openstack_command_line_clients.html#installing-from-packages).\\\n",
    "大多数Linux发行版都包含可以直接安装的命令行客户机的打包版本，请参阅[Installing from packages](https://docs.openstack.org/mitaka/user-guide/common/cli_install_openstack_command_line_clients.html#installing-from-packages)。\n",
    "\n",
    "If you need to install the source package for the command-line package, the following table lists the software needed to run the command-line clients, and provides installation instructions as needed.\\\n",
    "如果需要安装命令行包的源包，则运行命令行客户端所需的软件如下表所示，并提供相应的安装说明。"
   ]
  },
  {
   "cell_type": "markdown",
   "metadata": {},
   "source": [
    "### Python 2.7 or later\n",
    "\n",
    "Currently, the clients do not support Python 3.\n",
    "```shell\n",
    "sudo apt install python\n",
    "```"
   ]
  },
  {
   "cell_type": "markdown",
   "metadata": {},
   "source": [
    "### setuptools package\n",
    "\n",
    "* Installed by default on Mac OS X.\n",
    "\n",
    "* Many Linux distributions provide packages to make setuptools easy to install. Search your package manager for setuptools to find an installation package. If you cannot find one, download the setuptools package directly from [setuptools 56.0.0](https://pypi.python.org/pypi/setuptools).\\\n",
    "许多Linux发行版提供了使setuptools易于安装的包。在包管理器中搜索setuptools以找到安装包。如果找不到，请直接从[setuptools 56.0.0](https://pypi.python.org/pypi/setuptools)下载setuptools。\n",
    "```shell\n",
    "pip install setuptools\n",
    "```"
   ]
  },
  {
   "cell_type": "markdown",
   "metadata": {},
   "source": [
    "### pip package\t\n",
    "\n",
    "* __Ubuntu or Debian__\n",
    "```shell\n",
    "# apt-get install python-dev python-pip\n",
    "```\n",
    "Note that extra dependencies may be required, per operating system, depending on the package being installed, such as is the case with Tempest.\\\n",
    "注意，每个操作系统可能需要额外的依赖项，这取决于所安装的包，例如Tempest。\n",
    "\n",
    "Encounter an error:\n",
    "```shell\n",
    "E: Unable to locate package python-pip\n",
    "```\n",
    "Solution:\n",
    "```shell\n",
    "# Start by enabling the universe repository:\n",
    "sudo add-apt-repository universe\n",
    "# Update the packages index and install Python 2:\n",
    "sudo apt update\n",
    "sudo apt install python2\n",
    "# Use curl to download the `get-pip.py` script:\n",
    "curl https://bootstrap.pypa.io/pip/2.7/get-pip.py --output get-pip.py\n",
    "# Once the repository is enabled, run the script as sudo user with python2 to install pip :\n",
    "sudo python2 get-pip.py\n",
    "```\n",
    "Check the version of `pip`:\n",
    "```shell\n",
    "pip --version\n",
    "```\n",
    "Output:\n",
    "```shell\n",
    "pip 20.3.4 from /usr/local/lib/python2.7/dist-packages/pip (python 2.7)\n",
    "```"
   ]
  },
  {
   "cell_type": "markdown",
   "metadata": {},
   "source": [
    "## Install the OpenStack client\n",
    "\n",
    "The following example shows the command for installing the OpenStack client with `pip`, which supports multiple services.\\\n",
    "下面的例子展示了使用`pip`安装OpenStack client的命令，其支持多种服务。\n",
    "```shell\n",
    "# pip install python-openstackclient\n",
    "```\n",
    "\n",
    "The following individual clients are deprecated in favor of a common client. Instead of installing and learning all these clients, we recommend installing and using the OpenStack client. You may need to install an individual project’s client because coverage is not yet sufficient in the OpenStack client. If you need to install an individual client’s project, replace the `<project>` name in this `pip install` command using the list below.\\\n",
    "不建议使用以下单个client，而建议使用普通client。我们不建议安装和学习所有这些client，而是建议安装和使用OpenStack client。您可能需要安装单个项目的client，因为OpenStack client上的覆盖还不够。如果需要安装单个client项目，请使用下面的列表替换`pip install`命令中的`<project>`名称。\n",
    "```shell\n",
    "# pip install python-<project>client\n",
    "```"
   ]
  },
  {
   "cell_type": "markdown",
   "metadata": {},
   "source": [
    "### Installing with pip\n",
    "\n",
    "Use `pip` to install the OpenStack clients on a Linux, Mac OS X, or Microsoft Windows system. It is easy to use and ensures that you get the latest version of the client from the Python Package Index. Also, `pip` enables you to update or remove a package.\\\n",
    "在Linux、Mac OS X、Microsoft Windows系统下，使用`pip`安装OpenStack client。它易于使用，并确保您从Python包索引中获得client的最新版本。另外，`pip`允许您更新或删除包。\n",
    "\n",
    "Install each client separately by using the following command:\\\n",
    "使用以下命令分别安装每个client:\n",
    "\n",
    "* __For Mac OS X or Linux:__\n",
    "```shell\n",
    "# pip install python-PROJECTclient\n",
    "```"
   ]
  },
  {
   "cell_type": "markdown",
   "metadata": {},
   "source": [
    "### Installing from packages\n",
    "\n",
    "* For Ubuntu or Debian, use `apt-get` to install the clients from the packaged versions:\n",
    "```shell\n",
    "# apt-get install python-PROJECTclient\n",
    "```"
   ]
  },
  {
   "cell_type": "markdown",
   "metadata": {},
   "source": [
    "## Upgrade or remove clients\n",
    "\n",
    "To upgrade a client, add the `--upgrade` option to the `pip install` command:\n",
    "```shell\n",
    "# pip install --upgrade python-PROJECTclient\n",
    "```\n",
    "\n",
    "To remove the client, run the `pip uninstall` command:\n",
    "```shell\n",
    "# pip uninstall python-PROJECTclient\n",
    "```"
   ]
  }
 ],
 "metadata": {
  "kernelspec": {
   "display_name": "Python 3",
   "language": "python",
   "name": "python3"
  },
  "language_info": {
   "codemirror_mode": {
    "name": "ipython",
    "version": 3
   },
   "file_extension": ".py",
   "mimetype": "text/x-python",
   "name": "python",
   "nbconvert_exporter": "python",
   "pygments_lexer": "ipython3",
   "version": "3.8.8"
  },
  "toc": {
   "base_numbering": 1,
   "nav_menu": {},
   "number_sections": true,
   "sideBar": true,
   "skip_h1_title": true,
   "title_cell": "Table of Contents",
   "title_sidebar": "Contents",
   "toc_cell": false,
   "toc_position": {},
   "toc_section_display": true,
   "toc_window_display": false
  }
 },
 "nbformat": 4,
 "nbformat_minor": 4
}
