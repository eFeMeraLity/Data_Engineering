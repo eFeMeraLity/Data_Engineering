{
 "cells": [
  {
   "cell_type": "markdown",
   "metadata": {},
   "source": [
    "# OpenStack packages for Ubuntu\n",
    "[OpenStack packages for Ubuntu](https://docs.openstack.org/install-guide/environment-packages-ubuntu)"
   ]
  },
  {
   "cell_type": "markdown",
   "metadata": {},
   "source": [
    "Ubuntu releases OpenStack with each Ubuntu release. Ubuntu LTS releases are provided every two years. OpenStack packages from interim releases of Ubuntu are made available to the prior Ubuntu LTS via the Ubuntu Cloud Archive.\\\n",
    "Ubuntu每个版本都会同时发布OpenStack。Ubuntu LTS每两年发布一次。来自Ubuntu临时版本的OpenStack包通过Ubuntu云归档提供给以前的Ubuntu LTS。\n",
    "\n",
    "OpenStack Queens is available directly using Ubuntu 18.04 LTS and OpenStack Mitaka is available directly using Ubuntu 16.04 LTS without having to enable an Ubuntu Cloud Archive repository.\\\n",
    "OpenStack Queens可以直接使用Ubuntu 18.04 LTS, OpenStack Mitaka可以直接使用Ubuntu 16.04 LTS，无需启用Ubuntu云归档库。"
   ]
  },
  {
   "cell_type": "markdown",
   "metadata": {},
   "source": [
    "## Switch to root user\n",
    "```shell\n",
    "sudo -s\n",
    "```"
   ]
  },
  {
   "cell_type": "markdown",
   "metadata": {},
   "source": [
    "## Enable the repository for Ubuntu Cloud Archive"
   ]
  },
  {
   "cell_type": "markdown",
   "metadata": {},
   "source": [
    "* OpenStack Victoria for Ubuntu 20.04 LTS:\n",
    "```shell\n",
    "add-apt-repository cloud-archive:victoria\n",
    "```"
   ]
  },
  {
   "cell_type": "markdown",
   "metadata": {},
   "source": [
    "## Finalize the installation"
   ]
  },
  {
   "cell_type": "markdown",
   "metadata": {},
   "source": [
    "1. Upgrade packages on all nodes:\n",
    "```shell\n",
    "apt update && apt dist-upgrade\n",
    "```\n",
    "\n",
    "2. Install the OpenStack client:\n",
    "* OpenStack Victoria for Ubuntu 20.04 LTS and Stein for Ubuntu 18.04 LTS:\n",
    "```shell\n",
    "apt install python3-openstackclient\n",
    "```"
   ]
  }
 ],
 "metadata": {
  "kernelspec": {
   "display_name": "Python 3",
   "language": "python",
   "name": "python3"
  },
  "language_info": {
   "codemirror_mode": {
    "name": "ipython",
    "version": 3
   },
   "file_extension": ".py",
   "mimetype": "text/x-python",
   "name": "python",
   "nbconvert_exporter": "python",
   "pygments_lexer": "ipython3",
   "version": "3.8.8"
  },
  "toc": {
   "base_numbering": 1,
   "nav_menu": {},
   "number_sections": false,
   "sideBar": true,
   "skip_h1_title": true,
   "title_cell": "Table of Contents",
   "title_sidebar": "Contents",
   "toc_cell": false,
   "toc_position": {},
   "toc_section_display": true,
   "toc_window_display": true
  }
 },
 "nbformat": 4,
 "nbformat_minor": 4
}
