{
 "cells": [
  {
   "cell_type": "markdown",
   "metadata": {},
   "source": [
    "# DE II L4 - Distributed Computing Infrastructures (DCI) Part-I"
   ]
  },
  {
   "cell_type": "markdown",
   "metadata": {},
   "source": [
    "## Contextualization\n",
    "\n",
    "**<font color = blue> Definition </font> Contextualization**\\\n",
    "In cloud computing, contextualization means providing customized computing environment or allows a virtual machine instance to learn about its cloud environment and user requirement (the ‘context’) and configure itself to run correctly.\\\n",
    "在云计算中，contextualization意味着提供定制的计算环境，或者允许虚拟机实例了解其云环境和用户需求（“上下文”），并配置自身以正确运行。"
   ]
  },
  {
   "cell_type": "markdown",
   "metadata": {},
   "source": [
    "## Cloud-Init\n",
    "\n",
    "**<font color = blue> Definition </font> Cloud-Init**\\\n",
    "Cloud-Init is the industry standard multi-distribution method for cross-platform cloud instance initialization. It is supported across all major public cloud providers, provisioning systems for private cloud infrastructure, and bare-metal installations.\\\n",
    "Cloud-Init是用于跨平台云实例初始化的行业标准多分发方法。所有主要的公共云提供商、私有云基础设施的供应系统和裸金属安装都支持它。"
   ]
  },
  {
   "cell_type": "markdown",
   "metadata": {},
   "source": [
    "## Kubernetes\n",
    "\n",
    "### Basic Concepts\n",
    "\n",
    "* Cluster: A collection of hosts aggregating their resources (CPU, RAM, Storage and Network)\n",
    "* Master: The main node of the cluster, forms control panel of Kubernetes\n",
    "* Node: A single host in the cluster, running essential services\n",
    "* Namespaces: A logical organization of the resources\n",
    "\n",
    "### Selected list of K8s objects\n",
    "\n",
    "* __Pods__\\\n",
    "A group of one or more containers.\n",
    "\n",
    "* __Service__\\\n",
    "An abstraction which defines a logical set of pods and a policy to access them. Every Kubernetes service has an IP address, but unlike the IP address of a pod, it is stable.\n",
    "\n",
    "* __Persistent-Volume and Persistent-Volume Claim__\\\n",
    "A persistent-volume is a piece of storage in the cluster that has been provisioned to be used. Whereas a persistent-volume claim is a request by an application to consume the abstract storage resources declared through persistent volume.\n",
    "\n",
    "* __ConfigMap__\\\n",
    "Another abstraction to decouple environment-dependent application-configurationdata from containerized applications.\\\n",
    "另一个从容器化的应用程序中解耦环境依赖的应用程序配置数据的抽象。\n",
    "\n",
    "* __Secrets__\\\n",
    "An object that contains a small amount of sensitive data such as a password, a token, or a key.\n",
    "\n",
    "* __Deployment__\\\n",
    "An abstraction to represent the desired state of an actual deployment on Kubernetes"
   ]
  }
 ],
 "metadata": {
  "kernelspec": {
   "display_name": "Python 3",
   "language": "python",
   "name": "python3"
  },
  "language_info": {
   "codemirror_mode": {
    "name": "ipython",
    "version": 3
   },
   "file_extension": ".py",
   "mimetype": "text/x-python",
   "name": "python",
   "nbconvert_exporter": "python",
   "pygments_lexer": "ipython3",
   "version": "3.8.8"
  },
  "toc": {
   "base_numbering": 1,
   "nav_menu": {},
   "number_sections": true,
   "sideBar": true,
   "skip_h1_title": true,
   "title_cell": "Table of Contents",
   "title_sidebar": "Contents",
   "toc_cell": false,
   "toc_position": {},
   "toc_section_display": true,
   "toc_window_display": false
  }
 },
 "nbformat": 4,
 "nbformat_minor": 4
}
