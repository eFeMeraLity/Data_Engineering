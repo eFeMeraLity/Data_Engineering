{
 "cells": [
  {
   "cell_type": "markdown",
   "metadata": {},
   "source": [
    "# How To Use Git Hooks To Automate Development and Deployment Tasks\n",
    "[How To Use Git Hooks To Automate Development and Deployment Tasks](https://www.digitalocean.com/community/tutorials/how-to-use-git-hooks-to-automate-development-and-deployment-tasks)"
   ]
  },
  {
   "cell_type": "markdown",
   "metadata": {},
   "source": [
    "## Basic Idea with Git Hooks\n",
    "\n",
    "These categorizations are helpful for getting a general idea of the events that you can optionally set up a hook for. But to actually understand how these items work, it is best to experiment and to find out what solutions you are trying to implement.\\\n",
    "这些分类有助于大致了解可以为其设置hook的事件。但要真正理解这些项目是如何工作的，最好是进行试验，找出你想要执行的解决方案。\n",
    "\n",
    "Certain hooks also take parameters. This means that when git calls the script for the hook, it will pass in some relevant data that the script can then use to complete tasks. In full, the hooks that are available are:\\\n",
    "某些hook也接受参数。这意味着当git调用该脚本时，它将传递一些相关的数据，然后脚本可以使用这些数据来完成任务。总的来说，可用的hook有：\n"
   ]
  },
  {
   "cell_type": "markdown",
   "metadata": {},
   "source": [
    "## Setting Up a Repository"
   ]
  },
  {
   "cell_type": "markdown",
   "metadata": {},
   "source": [
    "### First Example: Deploying to a Local Web Server with a Post-Commit Hook"
   ]
  },
  {
   "cell_type": "markdown",
   "metadata": {},
   "source": [
    "### An Aside about Environmental Variables with Git Hooks"
   ]
  },
  {
   "cell_type": "markdown",
   "metadata": {},
   "source": [
    "### Back to the Script\n",
    "\n",
    "Now that you have an idea about the type of environment that will be in place (look at the variables set for the `post-commit` hook), we can begin our script.\\\n",
    "现在您已经对将要使用的环境类型有了一个概念（看看为`post-commit` hook设置的变量），我们可以开始编写脚本了。\n",
    "\n",
    "Since git hooks are standard scripts, we need to tell git what interpreter to use:\\\n",
    "因为git hooks是标准脚本，我们需要告诉git使用什么解释器：\n",
    "```shell\n",
    "#!/bin/bash\n",
    "```\n",
    "After that, we are just going to use git itself to unpack the newest version of the repository after the commit, into our web directory. To do this, we should set our working directory to Apache’s document root. We should also set our git directory to the repo.\\\n",
    "在那之后，我们将使用git来解压提交后最新版本的存储库到我们的web目录中。为此，我们应该将工作目录设置为Apache的文档根目录。我们还应该将git目录设置为repo。\n",
    "\n",
    "We will want to force this transaction to make sure this is successful each time, even if there are conflicts between what is currently in the working directory. It should look like this:\\\n",
    "我们将强制该事务确保每次都成功，即使当前工作目录中的内容之间存在冲突。它应该是这样的:\n",
    "```shell\n",
    "#!/bin/bash\n",
    "git --work-tree=/var/www/html --git-dir=/home/demo/proj/.git checkout -f\n",
    "```"
   ]
  },
  {
   "cell_type": "markdown",
   "metadata": {},
   "source": [
    "## Using Git Hooks to Deploy to a Separate Production Server\n",
    "使用Git hook部署到单独的Production服务器\n",
    "\n",
    "In this next example, we’ll demonstrate a better way to update a production server. We can do this by using the push-to-deploy model in order to update our web server whenever we push to a bare git repository.\\\n",
    "在下一个示例中，我们将演示更新production服务器的更好方法。我们可以通过使用push-to-deploy模型来做到这一点，以便在我们推送到裸git存储库时更新我们的web服务器。\n",
    "\n",
    "We can use the same server we’ve set up as our development machine. This is where we will do our work. We will be able to see our changes after every single commit.\\\n",
    "我们可以使用设置为development机器的同一台服务器。这是我们工作的地方。我们将能够在每次提交后看到我们的更改。\n",
    "\n",
    "On our production machine, we will be setting up another web server, a bare git repository that we will push changes to, and a git hook that will execute whenever a push is received. Complete the steps below as a normal user with sudo privileges.\\\n",
    "在我们的production机器上，我们将设置另一个web服务器，一个我们将推送更改的裸git存储库，以及一个每当收到推送时将执行的git hook。作为具有sudo权限的普通用户完成以下步骤。"
   ]
  },
  {
   "cell_type": "markdown",
   "metadata": {},
   "source": [
    "### Set Up the Production Server Post-Receive Hook\n",
    "\n",
    "On the production server, start off by installing the web server:\\\n",
    "在production服务器上，首先安装web服务器：\n",
    "```shell\n",
    "sudo apt-get update\n",
    "sudo apt-get install apache2\n",
    "```\n",
    "\n",
    "Again, we should give ownership of the document root to the user we are operating as:\\\n",
    "同样，我们应该将文档根的所有权授予我们正在操作的用户：\n",
    "```shell\n",
    "sudo chown -R `whoami`:`id -gn` /var/www/html\n",
    "```\n",
    "\n",
    "We need to remember to install `git` on this machine as well:\\\n",
    "我们也需要记住在这台机器上安装`git`：\n",
    "```shell\n",
    "sudo apt-get install git\n",
    "```\n",
    "\n",
    "Now, we can create a directory within our user’s home directory to hold the repository. We can then move into that directory and initialize a bare repository. A bare repository does not have a working directory and is better for servers that you will not be working with much directly:\\\n",
    "现在，我们可以在用户的主目录中创建一个目录来保存存储库。然后，我们可以移动到该目录并初始化一个裸存储库。裸存储库没有工作目录，更适合那些你不会直接使用的服务器：\n",
    "```shell\n",
    "mkdir ~/proj\n",
    "cd ~/proj\n",
    "git init --bare\n",
    "```\n",
    "\n",
    "Since this is a bare repository, there is no working directory and all of the files that are located in `.git` in a conventional setup are in the main directory itself.\\\n",
    "因为这是一个裸存储库，没有工作目录，所有位于`.git`中的文件在常规设置中都在主目录中。\n",
    "\n",
    "We need to create another git hook. This time, we are interested in the `post-receive` hook, which is run on the server receiving a `git push`. Open this file in your editor:\\\n",
    "我们需要创建另一个git hook。这一次，我们感兴趣的是`post-receive` hook，它运行在接收`git push`的服务器上。在编辑器中打开这个文件：\n",
    "```shell\n",
    "nano hooks/post-receive\n",
    "```\n",
    "\n",
    "Again, we need to start off by identifying the type of script we are writing. After that, we can type out the same checkout command that we used in our `post-commit` file, modified to use the paths on this machine:\\\n",
    "同样，我们需要从识别我们正在编写的脚本类型开始。然后，我们可以输入我们在`post-commit`文件中使用的同样的checkout命令，修改后使用这台机器上的路径:\n",
    "```shell\n",
    "#!/bin/bash\n",
    "git --work-tree=/var/www/html --git-dir=/home/demo/proj checkout -f\n",
    "```\n",
    "Since this is a bare repository, the `--git-dir` should point to the top-level directory of that repo. The rest is fairly similar.\\\n",
    "因为这是一个裸存储库，`--git-dir`应该指向该回购的顶级目录。其余的情况相当相似。\n",
    "\n",
    "However, we need to add some additional logic to this script. If we accidentally push a `test-feature` branch to this server, we do not want that to be deployed. We want to make sure that we are only going to be deploying the `master` branch.\\\n",
    "但是，我们需要向这个脚本添加一些额外的逻辑。如果我们不小心将一个`test-feature`分支推到这个服务器上，我们不希望它被部署。我们希望确保我们只会部署`master`分支。\n",
    "\n",
    "For the `post-receive` hook, you may have noticed in the table earlier that git passes the old revision’s commit hash, the new revision’s commit hash, and the reference that is being pushed as standard input to the script. We can use this to check whether the ref is the master branch or not.\\\n",
    "对于`post-receive` hook，您可能已经注意到在前面的表中，git传递了旧版本的提交哈希，新版本的提交哈希，以及作为标准输入推送到脚本的引用。我们可以用它来检查ref是否是主分支。\n",
    "\n",
    "First, we need to read the standard input. For each ref being pushed, the three pieces of info (`old rev`, `new rev`, `ref`) will be fed to the script, separated by white space, as standard input. We can read this with a `while` loop to surround the `git` command:\\\n",
    "首先，我们需要读取标准输入。对于每一个被推入的引用，三个信息（`old rev`，`new rev`，`ref`）将被输入到脚本中，用空白隔开，作为标准输入。我们可以用`while`循环来包围`git`命令：\n",
    "```shell\n",
    "#!/bin/bash\n",
    "while read oldrev newrev ref\n",
    "do\n",
    "    git --work-tree=/var/www/html --git-dir=/home/demo/proj checkout -f\n",
    "done\n",
    "```\n",
    "\n",
    "So now, we will have three variables set based on what is being pushed. For a master branch push, the `ref` object will contain something that looks like `refs/heads/master`. We can check to see if the ref the server is receiving has this format by using an `if` construct:\\\n",
    "那么现在，我们将有三个变量集基于推入的内容。对于主分支推送，`ref`对象将包含类似`refs/heads/master`的内容。我们可以使用`if`构造来检查服务器接收的ref是否具有这种格式：\n",
    "```shell\n",
    "#!/bin/bash\n",
    "while read oldrev newrev ref\n",
    "do\n",
    "    if [[ $ref =~ .*/master$ ]];\n",
    "    then\n",
    "        git --work-tree=/var/www/html --git-dir=/home/demo/proj checkout -f\n",
    "    fi\n",
    "done\n",
    "```\n",
    "For server-side hooks, git can actually pass messages back to the client. Anything sent to standard out will be redirected to the client. This gives us an opportunity to explicitly notify the user about what decision has been made.\\\n",
    "对于服务器端hooks，git实际上可以将消息传递回client。任何发送到标准输出的内容都会被重定向到client。这让我们有机会明确地通知用户所做的决定。\n",
    "\n",
    "We should add some text describing what situation was detected, and what action was taken. We should add an `else` block to notify the user when a non-master branch was successfully received, even though the action won’t trigger a deploy:\\\n",
    "我们应该添加一些文本，描述检测到什么情况，以及采取了什么行动。当一个非主分支被成功接收时，我们应该添加一个`else`块来通知用户，即使这个动作不会触发部署：\n",
    "```shell\n",
    "#!/bin/bash\n",
    "while read oldrev newrev ref\n",
    "do\n",
    "    if [[ $ref =~ .*/master$ ]];\n",
    "    then\n",
    "        echo \"Master ref received.  Deploying master branch to production...\"\n",
    "        git --work-tree=/var/www/html --git-dir=/home/demo/proj checkout -f\n",
    "    else\n",
    "        echo \"Ref $ref successfully received.  Doing nothing: only the master branch may be deployed on this server.\"\n",
    "    fi\n",
    "done\n",
    "```\n",
    "When you are finished, save and close the file.\\\n",
    "完成后，保存并关闭文件。\n",
    "\n",
    "Remember, we must make the script executable for the hook to work:\\\n",
    "记住，我们必须让脚本可执行才能让hook工作:\n",
    "```shell\n",
    "chmod +x hooks/post-receive\n",
    "```\n",
    "Now, we can set up access to this remote server on our client.\\\n",
    "现在，我们可以在客户机上设置对这个远程服务器的访问。"
   ]
  },
  {
   "cell_type": "markdown",
   "metadata": {},
   "source": [
    "### Configure the Remote Server on your Client Machine"
   ]
  }
 ],
 "metadata": {
  "kernelspec": {
   "display_name": "Python 3",
   "language": "python",
   "name": "python3"
  },
  "language_info": {
   "codemirror_mode": {
    "name": "ipython",
    "version": 3
   },
   "file_extension": ".py",
   "mimetype": "text/x-python",
   "name": "python",
   "nbconvert_exporter": "python",
   "pygments_lexer": "ipython3",
   "version": "3.8.8"
  },
  "toc": {
   "base_numbering": 1,
   "nav_menu": {},
   "number_sections": true,
   "sideBar": true,
   "skip_h1_title": true,
   "title_cell": "Table of Contents",
   "title_sidebar": "Contents",
   "toc_cell": false,
   "toc_position": {},
   "toc_section_display": true,
   "toc_window_display": true
  }
 },
 "nbformat": 4,
 "nbformat_minor": 4
}
