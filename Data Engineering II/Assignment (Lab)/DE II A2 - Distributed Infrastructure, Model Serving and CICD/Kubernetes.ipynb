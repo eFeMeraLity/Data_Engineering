{
 "cells": [
  {
   "cell_type": "markdown",
   "metadata": {},
   "source": [
    "# Kubernetes"
   ]
  },
  {
   "cell_type": "markdown",
   "metadata": {},
   "source": [
    "## Nodes\n",
    "\n",
    "[Kubernetes | Nodes](https://kubernetes.io/docs/concepts/architecture/nodes/)\n",
    "\n",
    "Kubernetes runs your workload by placing containers into Pods to run on **Nodes**. A node may be a virtual or physical machine, depending on the cluster. Each node is managed by the control plane and contains the services necessary to run Pods.\\\n",
    "Kubernetes通过将容器放置到Pods中以在节点上运行来运行您的工作负载。节点可以是虚拟机，也可以是物理机，这取决于集群。每个节点由控制平面管理，并包含运行Pods所需的服务。\n",
    "\n",
    "Typically you have several nodes in a cluster; in a learning or resource-limited environment, you might have only one node.\\\n",
    "通常一个集群中有几个节点;在学习或资源有限的环境中，可能只有一个节点。\n",
    "\n",
    "\n",
    "The components on a node include the kubelet, a container runtime, and the kube-proxy.\\\n",
    "节点上的组件包括kubelet、容器运行时和kube-proxy。"
   ]
  },
  {
   "cell_type": "markdown",
   "metadata": {},
   "source": [
    "## Service\n",
    "\n",
    "[Kubernetes | Service](https://kubernetes.io/docs/concepts/services-networking/service/)\n",
    "\n",
    "An abstract way to expose an application running on a set of Pods as a network service.\\\n",
    "将运行在一组Pods上的应用程序公开为网络服务的一种抽象方法。\n",
    "\n",
    "With Kubernetes you don't need to modify your application to use an unfamiliar service discovery mechanism. Kubernetes gives Pods their own IP addresses and a single DNS name for a set of Pods, and can load-balance across them.\\\n",
    "使用Kubernetes，您不需要修改应用程序来使用不熟悉的服务发现机制。Kubernetes为Pods提供了自己的IP地址和一组Pods的单个DNS名称，并可以跨它们进行负载平衡。"
   ]
  },
  {
   "cell_type": "markdown",
   "metadata": {},
   "source": [
    "## ConfigMaps\n",
    "\n",
    "[Kubernetes | ConfigMaps](https://kubernetes.io/docs/concepts/configuration/configmap/)\n",
    "\n",
    "A ConfigMap is an API object used to store non-confidential data in key-value pairs. Pods can consume ConfigMaps as environment variables, command-line arguments, or as configuration files in a volume.\\\n",
    "ConfigMap是一个API对象，用于将非机密数据存储在键值对中。Pods可以将ConfigMaps作为环境变量、命令行参数或卷中的配置文件使用。\n",
    "\n",
    "A ConfigMap allows you to decouple environment-specific configuration from your container images, so that your applications are easily portable.\\\n",
    "ConfigMap允许您将特定于环境的配置与容器映像解耦，这样您的应用程序就很容易移植。\n",
    "\n",
    "Caution: ConfigMap does not provide secrecy or encryption. If the data you want to store are confidential, use a Secret rather than a ConfigMap, or use additional (third party) tools to keep your data private.\\\n",
    "注意:ConfigMap不提供保密或加密。如果要存储的数据是机密的，请使用Secret而不是ConfigMap，或者使用其他(第三方)工具来保持数据的私密性。"
   ]
  },
  {
   "cell_type": "markdown",
   "metadata": {},
   "source": [
    "## Secrets\n",
    "\n",
    "[Kubernetes | Secrets](https://kubernetes.io/docs/concepts/configuration/secret/)\n",
    "\n",
    "Kubernetes Secrets let you store and manage sensitive information, such as passwords, OAuth tokens, and ssh keys. Storing confidential information in a Secret is safer and more flexible than putting it verbatim in a Pod definition or in a container image. See Secrets design document for more information.\\\n",
    "Kubernetes Secrets允许您存储和管理敏感信息，如密码、OAuth令牌和ssh密钥。与将机密信息一字不差地放在Pod定义或容器映像中相比，在a Secret中存储机密信息更安全、更灵活。更多信息请参见Secrets设计文档。\n",
    "\n",
    "A Secret is an object that contains a small amount of sensitive data such as a password, a token, or a key. Such information might otherwise be put in a Pod specification or in an image. Users can create Secrets and the system also creates some Secrets.\\\n",
    "Secret是包含少量敏感数据(如密码、令牌或密钥)的对象。这样的信息可以放在Pod规范或图像中。用户可以创建秘密，系统也可以创建一些秘密。"
   ]
  }
 ],
 "metadata": {
  "kernelspec": {
   "display_name": "Python 3",
   "language": "python",
   "name": "python3"
  },
  "language_info": {
   "codemirror_mode": {
    "name": "ipython",
    "version": 3
   },
   "file_extension": ".py",
   "mimetype": "text/x-python",
   "name": "python",
   "nbconvert_exporter": "python",
   "pygments_lexer": "ipython3",
   "version": "3.8.8"
  },
  "toc": {
   "base_numbering": 1,
   "nav_menu": {},
   "number_sections": true,
   "sideBar": true,
   "skip_h1_title": false,
   "title_cell": "Table of Contents",
   "title_sidebar": "Contents",
   "toc_cell": false,
   "toc_position": {},
   "toc_section_display": true,
   "toc_window_display": false
  }
 },
 "nbformat": 4,
 "nbformat_minor": 4
}
