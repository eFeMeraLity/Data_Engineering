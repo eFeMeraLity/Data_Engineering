{
 "cells": [
  {
   "cell_type": "markdown",
   "metadata": {
    "collapsed": true
   },
   "source": [
    "# DE II A3 - Large Scale Machine Learning"
   ]
  },
  {
   "cell_type": "markdown",
   "metadata": {},
   "source": [
    "### Log in VM\n",
    "\n",
    "* Log into the [SNIC cloud](https://east-1.cloud.snic.se/).\n",
    "\n",
    "```bash\n",
    "# Master\n",
    "ssh -i /Users/lmf/PycharmProjects/MSc_DS/Important/key_DE.pem ubuntu@130.238.29.125\n",
    "# Worker 1\n",
    "ssh -i /Users/lmf/PycharmProjects/MSc_DS/Important/key_DE.pem ubuntu@130.238.28.180\n",
    "# Worker 2\n",
    "ssh -i /Users/lmf/PycharmProjects/MSc_DS/Important/key_DE.pem ubuntu@130.238.29.179\n",
    "ssh mengfeiliang-a3-w1\n",
    "ssh mengfeiliang-a3-w2\n",
    "```"
   ]
  },
  {
   "cell_type": "markdown",
   "metadata": {},
   "source": [
    "### Run Jupyter lab\n",
    "\n",
    "```bash\n",
    "python3 -m jupyterlab --ip=130.238.29.125 --no-browser --port=8888\n",
    "```"
   ]
  },
  {
   "cell_type": "markdown",
   "metadata": {},
   "source": [
    "## Ray"
   ]
  },
  {
   "cell_type": "markdown",
   "metadata": {},
   "source": [
    "### Manual Ray Cluster Setup\n",
    "\n",
    "```bash\n",
    "# On head machine\n",
    "ray start --head\n",
    "# On worker machine\n",
    "ray start --address='192.168.2.238:6379' --redis-password='5241590000000000'\n",
    "```"
   ]
  },
  {
   "cell_type": "markdown",
   "metadata": {},
   "source": [
    "## sklearn"
   ]
  },
  {
   "cell_type": "markdown",
   "metadata": {},
   "source": [
    "Set up the problem using sklearn. Explore the parameters used in the Random Forest implementation. Hint: use the `get_param()` method. Train the model using the default parameters.\\\n",
    "使用sklearn设置问题。探索随机森林实现中使用的参数。提示:使用`get_param()`方法。使用默认参数训练模型。"
   ]
  },
  {
   "cell_type": "code",
   "execution_count": 21,
   "metadata": {
    "scrolled": true
   },
   "outputs": [],
   "source": [
    "import time\n",
    "import numpy as np\n",
    "\n",
    "from sklearn.model_selection import GridSearchCV, cross_val_score\n",
    "from sklearn.ensemble import RandomForestClassifier\n",
    "from sklearn.datasets import fetch_covtype"
   ]
  },
  {
   "cell_type": "code",
   "execution_count": 22,
   "metadata": {},
   "outputs": [],
   "source": [
    "def load_data(random_state, train_size = 0.8):\n",
    "    \"\"\"\n",
    "    Load the data.\n",
    "    \"\"\"\n",
    "    data = fetch_covtype(download_if_missing = True, shuffle = True, random_state = random_state)\n",
    "\n",
    "    X = data['data']\n",
    "    y = data['target']\n",
    "    \n",
    "    n_train = int(train_size*X.shape[0])\n",
    "    \n",
    "    X_train, y_train, X_test, y_test = X[:n_train], y[:n_train], X[n_train:], y[n_train:]\n",
    "    \n",
    "    return X_train, y_train, X_test, y_test"
   ]
  },
  {
   "cell_type": "code",
   "execution_count": 23,
   "metadata": {},
   "outputs": [],
   "source": [
    "def train_default(random_state = 42):\n",
    "    \"\"\"\n",
    "    Train the model using the default parameters.\n",
    "    Return:\n",
    "        * the trained model\n",
    "        * the parameters\n",
    "    \"\"\"\n",
    "    \n",
    "    X_train, y_train, X_test, y_test = load_data(random_state = random_state)\n",
    "    \n",
    "    model = RandomForestClassifier(random_state = random_state)\n",
    "    \n",
    "    model.fit(X_train, y_train)\n",
    "    \n",
    "    params = default_model.get_params()\n",
    "    \n",
    "    return model, param"
   ]
  },
  {
   "cell_type": "code",
   "execution_count": 24,
   "metadata": {},
   "outputs": [],
   "source": [
    "def model_evaluation(random_state = 42, model, param):\n",
    "    \"\"\"\n",
    "    Evaluate the model.\n",
    "    Return:\n",
    "        * accuracy\n",
    "        * cross-validation score\n",
    "    \"\"\"\n",
    "    X_train, y_train, X_test, y_test = load_data(random_state = random_state)\n",
    "    \n",
    "    accuracy = np.mean(model.predict(X_test) == y_test)\n",
    "    score = cross_val_score(model, X, y, scoring = 'accuracy', cv = 4)\n",
    "    \n",
    "    result = {\"accuracy\":accuracy, \"score\":score}\n",
    "    return result"
   ]
  },
  {
   "cell_type": "code",
   "execution_count": 17,
   "metadata": {},
   "outputs": [],
   "source": [
    "defaul_model = train_default()"
   ]
  }
 ],
 "metadata": {
  "kernelspec": {
   "display_name": "Python 3",
   "language": "python",
   "name": "python3"
  },
  "language_info": {
   "codemirror_mode": {
    "name": "ipython",
    "version": 3
   },
   "file_extension": ".py",
   "mimetype": "text/x-python",
   "name": "python",
   "nbconvert_exporter": "python",
   "pygments_lexer": "ipython3",
   "version": "3.8.8"
  },
  "toc": {
   "base_numbering": 1,
   "nav_menu": {},
   "number_sections": true,
   "sideBar": true,
   "skip_h1_title": true,
   "title_cell": "Table of Contents",
   "title_sidebar": "Contents",
   "toc_cell": false,
   "toc_position": {},
   "toc_section_display": true,
   "toc_window_display": false
  }
 },
 "nbformat": 4,
 "nbformat_minor": 1
}
