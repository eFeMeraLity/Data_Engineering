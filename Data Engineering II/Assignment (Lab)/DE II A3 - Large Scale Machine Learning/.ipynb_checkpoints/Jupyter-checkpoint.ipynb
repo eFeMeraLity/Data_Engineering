{
 "cells": [
  {
   "cell_type": "markdown",
   "metadata": {},
   "source": [
    "# Running a notebook server"
   ]
  },
  {
   "cell_type": "markdown",
   "metadata": {
    "collapsed": true
   },
   "source": [
    "Create a notebook configuration file, `jupyter_notebook_config.py`:\n",
    "```bash\n",
    "jupyter notebook --generate-config\n",
    "jupyter lab --generate-config\n",
    "```\n",
    "\n",
    "Modify\n",
    "```bash\n",
    "vim /home/ubuntu/.jupyter/jupyter_notebook_config.py\n",
    "vim /home/ubuntu/.jupyter/jupyter_lab_config.py\n",
    "```\n",
    "```bash\n",
    "c.NotebookApp.allow_remote_access = True\n",
    "c.NotebookApp.open_browser = False\n",
    "c.NotebookApp.ip = '*'\n",
    "c.NotebookApp.allow_root = True\n",
    "```\n",
    "\n",
    "Access\n",
    "```bash\n",
    "python3 -m jupyterlab --no-browser --port=8888\n",
    "python3 -m jupyterlab --ip=130.238.29.125 --no-browser --port=8888\n",
    "python3 -m jupyter notebook --no-browser --port=8888\n",
    "```\n",
    "\n",
    "Web: \n",
    "`http://<floating_IP>:8888/`\n",
    "* http://130.238.29.125:8888/"
   ]
  },
  {
   "cell_type": "code",
   "execution_count": null,
   "metadata": {},
   "outputs": [],
   "source": []
  }
 ],
 "metadata": {
  "kernelspec": {
   "display_name": "Python 3",
   "language": "python",
   "name": "python3"
  },
  "language_info": {
   "codemirror_mode": {
    "name": "ipython",
    "version": 3
   },
   "file_extension": ".py",
   "mimetype": "text/x-python",
   "name": "python",
   "nbconvert_exporter": "python",
   "pygments_lexer": "ipython3",
   "version": "3.8.8"
  },
  "toc": {
   "base_numbering": 1,
   "nav_menu": {},
   "number_sections": true,
   "sideBar": true,
   "skip_h1_title": false,
   "title_cell": "Table of Contents",
   "title_sidebar": "Contents",
   "toc_cell": false,
   "toc_position": {},
   "toc_section_display": true,
   "toc_window_display": false
  }
 },
 "nbformat": 4,
 "nbformat_minor": 1
}
