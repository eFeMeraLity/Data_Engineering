{
 "cells": [
  {
   "cell_type": "markdown",
   "metadata": {
    "collapsed": true
   },
   "source": [
    "# Ubuntu Linux Cluster"
   ]
  },
  {
   "cell_type": "markdown",
   "metadata": {},
   "source": [
    "## Log in VM\n",
    "\n",
    "* Log into the [SNIC cloud](https://east-1.cloud.snic.se/).\n",
    "\n",
    "```bash\n",
    "# Master\n",
    "ssh -i /Users/lmf/PycharmProjects/MSc_DS/Important/key_DE.pem ubuntu@130.238.29.125\n",
    "# Worker 1\n",
    "ssh -i /Users/lmf/PycharmProjects/MSc_DS/Important/key_DE.pem ubuntu@130.238.28.180\n",
    "# Worker 2\n",
    "ssh -i /Users/lmf/PycharmProjects/MSc_DS/Important/key_DE.pem ubuntu@130.238.29.179\n",
    "```\n",
    "\n",
    "* Remove host key in `~/.ssh/known_hosts` to get rid of message `WARNING: REMOTE HOST IDENTIFICATION HAS CHANGED!`.\n",
    "```shell\n",
    "vim ~/.ssh/known_hosts\n",
    "```"
   ]
  },
  {
   "cell_type": "markdown",
   "metadata": {},
   "source": [
    "## Change the hostname\n",
    "\n",
    "1. Type the following command to edit /etc/hostname using `nano` or `vi` text editor:\n",
    "```bash\n",
    "sudo vim /etc/hostname\n",
    "```\n",
    "Delete the old name and setup new name.\n",
    "\n",
    "2. Next Edit the `/etc/hosts` file:\n",
    "```bash\n",
    "sudo vim /etc/hosts\n",
    "```\n",
    "Replace any occurrence of the existing computer name with your new one.\n",
    "\n",
    "3. Reboot the system to changes take effect:\n",
    "```bash\n",
    "sudo reboot\n",
    "```"
   ]
  },
  {
   "cell_type": "markdown",
   "metadata": {},
   "source": [
    "## Get the hostname and IP of each VM\n",
    "\n",
    "Run the following command:\n",
    "```bash\n",
    "# Get the hostname\n",
    "hostname\n",
    "# Get the IP address\n",
    "ip addr\n",
    "```\n",
    "\n",
    "The hostname and IP of each VM:\n",
    "```bash\n",
    "# Master\n",
    "192.168.2.238 mengfeiliang-a3-m\n",
    "# Worker 1\n",
    "192.168.2.17 mengfeiliang-a3-w1\n",
    "# Worker 2\n",
    "192.168.2.27 mengfeiliang-a3-w2\n",
    "```"
   ]
  },
  {
   "cell_type": "markdown",
   "metadata": {},
   "source": [
    "## Edit the hosts file\n",
    "\n",
    "We need to edit the hosts file. Use the following command:\n",
    "```bash\n",
    "sudo vim /etc/hosts\n",
    "```\n",
    "add your network information:\n",
    "```bash\n",
    "127.0.0.1 localhost\n",
    "\n",
    "# Master\n",
    "192.168.2.238 mengfeiliang-a3-m\n",
    "# Worker 1\n",
    "192.168.2.17 mengfeiliang-a3-w1\n",
    "# Worker 2\n",
    "192.168.2.27 mengfeiliang-a3-w2\n",
    "  \n",
    "# The following lines are desirable for IPv6 capable hosts\n",
    "::1 ip6-localhost ip6-loopback\n",
    "fe00::0 ip6-localnet\n",
    "ff00::0 ip6-mcastprefix\n",
    "ff02::1 ip6-allnodes\n",
    "ff02::2 ip6-allrouters\n",
    "ff02::3 ip6-allhosts\n",
    "```\n",
    "\n",
    "In order for the machines to assimilate the previous steps we need to reboot them. Use the following command in all of them:\\\n",
    "为了让机器吸收前面的步骤，我们需要重新启动它们。请使用以下命令：\n",
    "```bash\n",
    "sudo reboot\n",
    "```"
   ]
  },
  {
   "cell_type": "markdown",
   "metadata": {},
   "source": [
    "## Setup password-less access with SSH\n",
    "\n",
    "Next, we need to install SSH server. This may already be installed, but if not, you will want to run\n",
    "```bash\n",
    "sudo apt install openssh-server\n",
    "```\n",
    "\n",
    "Generate key pairs:\n",
    "```bash\n",
    "ssh-keygen -t rsa -P \"\"\n",
    "```\n",
    "\n",
    "Use the following command in order to make this key an authorized one:\n",
    "```bash\n",
    "cat ~/.ssh/id_rsa.pub >> ~/.ssh/authorized_keys\n",
    "```\n",
    "\n",
    "Now we need to copy the content of `.ssh/id_rsa.pub` (of master) to `.ssh/authorized_keys` (of all the slaves as well as master). \n",
    "\n",
    "Get the content of `.ssh/id_rsa.pub`:\n",
    "```bash\n",
    "cat ~/.ssh/id_rsa.pub\n",
    "```\n",
    "\n",
    "Copy the public key of the master VM:\n",
    "```bash\n",
    "ssh-rsa AAAAB3NzaC1yc2EAAAADAQABAAABgQCxWEeXAIOrMG4miXixUuXnHO8xHygyASKF37g0sUyZn0M6PDABLZ+tfeWTHJilVRYVLuP3GWuhXwe9krRIi+wFTSTO+G3cbXBNqwvhsYthtj7/8ygoW61M04Ni11J4LtMP1yRTjm9u+NMIyXgEi4JOVdpogaHdYLMQN0BsU/Zwd6DpDS2F7p3OihQHw/4LeQDqe7JPbQFvX2HTZKzRmfvIqG12Eo+Dqgcex/QJUQl0RQRchRUVWexkvaBxfWIArJ9B8QZjIsTfn8ffuhH4HYjzKPyc+IL7L1zMkFhuSpsGx6+cqu6v0Spk2T+8zGEohLIvreHdf558sUbEV+42jF15YC4lb2C/zPzdP6QGEdjLFJ+2oWFe8cXBedTWs6rWIOPE8f3xgWW18y1rF+ZaWtkSgl1+mWyllrAsLkhQ07AoWvPO+P+4XICLxjgrwuUgk067hFgjIum4l/kcT7d5B2g+7h0dSu7zNsgMQk7eumKJYd4cIPiGCpAyhK69UT46mLU= ubuntu@mengfeiliang-a3-m\n",
    "```\n",
    "\n",
    "Log into the worker VM, paste the public key in `.ssh/authorized_keys`:\n",
    "```bash\n",
    "# Worker 1\n",
    "ssh -i /Users/lmf/PycharmProjects/MSc_DS/Important/key_DE.pem ubuntu@130.238.28.180\n",
    "# Worker 2\n",
    "ssh -i /Users/lmf/PycharmProjects/MSc_DS/Important/key_DE.pem ubuntu@130.238.29.179\n",
    "vim ~/.ssh/authorized_keys\n",
    "```\n",
    "\n",
    "Let’s check if everything went well, try to connect to the worker:\n",
    "```bash\n",
    "ssh -i /Users/lmf/PycharmProjects/MSc_DS/Important/key_DE.pem ubuntu@130.238.29.125\n",
    "ssh mengfeiliang-a3-m\n",
    "ssh mengfeiliang-a3-w1\n",
    "ssh mengfeiliang-a3-w2\n",
    "```"
   ]
  }
 ],
 "metadata": {
  "kernelspec": {
   "display_name": "Python 3",
   "language": "python",
   "name": "python3"
  },
  "language_info": {
   "codemirror_mode": {
    "name": "ipython",
    "version": 3
   },
   "file_extension": ".py",
   "mimetype": "text/x-python",
   "name": "python",
   "nbconvert_exporter": "python",
   "pygments_lexer": "ipython3",
   "version": "3.8.8"
  },
  "toc": {
   "base_numbering": 1,
   "nav_menu": {},
   "number_sections": true,
   "sideBar": true,
   "skip_h1_title": true,
   "title_cell": "Table of Contents",
   "title_sidebar": "Contents",
   "toc_cell": false,
   "toc_position": {},
   "toc_section_display": true,
   "toc_window_display": false
  }
 },
 "nbformat": 4,
 "nbformat_minor": 1
}
