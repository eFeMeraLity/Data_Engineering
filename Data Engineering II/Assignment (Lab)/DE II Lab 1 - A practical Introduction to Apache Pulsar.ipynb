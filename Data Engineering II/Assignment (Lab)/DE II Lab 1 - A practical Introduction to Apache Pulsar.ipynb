{
 "cells": [
  {
   "cell_type": "markdown",
   "metadata": {
    "collapsed": true
   },
   "source": [
    "# DE II Lab 1 - A practical Introduction to Apache Pulsar"
   ]
  },
  {
   "cell_type": "markdown",
   "metadata": {},
   "source": [
    "## Summary\n",
    "\n",
    "The lab assignment covers the practical part of the discussed concepts of data streaming frameworks. In this lab, we are going to explore one of the popular data streaming frameworks such as Apache Pulsar. The lab consists of four tasks. All tasks are compulsory for all the students. For this lab, we describe four tasks as follows:\\\n",
    "实验作业涵盖了所讨论的数据流框架概念的实践部分。在这个实验室里，我们将探索其中一个流行的数据流框架比如Apache Pulsar。该实验室由四项任务组成。所有的任务对所有的学生都是强制性的。对于本实验室，我们描述了以下四个任务：\n",
    "* __Task 1__ provides an understanding of how to setup Apache pulsar on a single Linux virtual Machine.\\\n",
    "__Task 1__提供了如何在单个Linux虚拟机上安装Apache pulsar的理解。\n",
    "* __Task 2__ demonstrates an implementation of the messaging system with Apache Pulsar. First, a single consumer and a producer running on the same machine is implemented. The task then introduces students how messaging systems can be distributed between different machines.\\\n",
    "__Task 2__演示了一个使用Apache Pulsar的消息系统的实现。首先，实现运行在同一台机器上的单个消费者和生产者。然后该任务向学生介绍如何在不同的机器之间分发消息系统。\n",
    "* __Task 3__ is a theoretical task that requires an understanding of the concepts of data streaming frameworks i.e., specifically about Apache Pulsar.\\\n",
    "__Task 3__是一个理论任务，需要理解数据流框架的概念，即，特别是关于Apache pulsar。\n",
    "* __Task 4__ is a challenge task where students will implement a small use case of Apache pulsar.\\\n",
    "__Task 4__是一个具有挑战性的任务，学生将实现一个Apache pulsar的小用例。"
   ]
  },
  {
   "cell_type": "markdown",
   "metadata": {},
   "source": [
    "## Supplementary Material\n",
    "\n",
    "* Information on Apache Pulsar: https://pulsar.apache.org/docs/en/standalone/\n",
    "* Relevant literature on data streaming framework: https://ieeexplore.ieee.org/document/8864052/\n",
    "* Information on Terminal Multiplexer: https://linuxize.com/post/getting-started-with-tmux/"
   ]
  },
  {
   "cell_type": "markdown",
   "metadata": {},
   "source": [
    "## Preparation\n",
    "\n",
    "```shell\n",
    "ssh -i /Users/lmf/PycharmProjects/MSc_DS/Important/key_DE.pem ubuntu@130.238.29.144\n",
    "```"
   ]
  },
  {
   "cell_type": "markdown",
   "metadata": {},
   "source": [
    "## Task1: Setting up Apache pulsar"
   ]
  },
  {
   "cell_type": "markdown",
   "metadata": {},
   "source": [
    "### A. Installing Apache pulsar locally\n",
    "\n",
    "1. Switch to root user and update the package lists\\\n",
    "切换到root用户并更新包列表\n",
    "```shell\n",
    "$ sudo -s\n",
    "$ apt update; apt -y upgrade;\n",
    "```\n",
    "\n",
    "2. Download binary release of pulsar by running the following command in your terminal:\\\n",
    "在终端中运行以下命令下载pulsar的二进制版本:\n",
    "```shell\n",
    "$ wget https://archive.apache.org/dist/pulsar/pulsar-2.7.0/apache-pulsar-2.7.0-bin.tar.gz\n",
    "```\n",
    "\n",
    "3. Untar the downloaded tarball and navigate to the directory\\\n",
    "解压缩下载的tar文件并导航到该目录\n",
    "```shell\n",
    "$ tar xvfz apache-pulsar-2.7.0-bin.tar.gz\n",
    "$ cd apache-pulsar-2.7.0\n",
    "```"
   ]
  },
  {
   "cell_type": "markdown",
   "metadata": {},
   "source": [
    "### B. Start Pulsar standalone in a single machine\n",
    "\n",
    "1. To see the log of pulsar on the terminal and also view logs from other components of the pulsar on a single machine. We will run our commands in the terminal multiplexer.\\\n",
    "可以在终端上查看pulsar的日志，也可以在单个机器上查看pulsar的其他组件的日志。我们将在终端多路复用器中运行我们的命令。\n",
    "```shell\n",
    "$ tmux new -s pulsar\n",
    "```\n",
    "\n",
    "2. Start a local cluster using the following pulsar command by navigating to bin directory, and specifying standalone mode.\\\n",
    "通过导航到bin目录并指定独立模式，使用以下pulsar命令启动本地集群。\n",
    "```shell\n",
    "$ bin/pulsar standalone\n",
    "```\n",
    "\n",
    "3. When pulsar is successfully running, we will see the following output in the terminal\\\n",
    "当pulsar成功运行时，我们将在终端看到以下输出\n",
    "```shell\n",
    "2021-03-15 14:46:29,192 - INFO - [main:WebSocketService@95] - Configuration Store cache started\n",
    "2021-03-15 14:46:29,192 - INFO - [main:AuthenticationService@61] - Authentication is disabled\n",
    "2021-03-15 14:46:29,192 - INFO - [main:WebSocketService@108] - Pulsar WebSocket Service started\n",
    "```\n",
    "The above log shows the successful setup of the Apache pulsar.\\\n",
    "上面的日志显示了Apache pulsar的成功设置。"
   ]
  },
  {
   "cell_type": "markdown",
   "metadata": {},
   "source": [
    "### C. Setting up pulsar in docker\n",
    "\n",
    "1. One of the advantages of using docker containers is to quickly setup a software service. We can run Apache pulsar with the following docker command. To do this, we first exit Apache pulsar (if it is running) by pressing `Cntrl + C` and then type the following command:\\\n",
    "使用docker容器的优点之一是可以快速设置软件服务。我们可以用下面的docker命令运行Apache pulsar。要做到这一点，我们首先通过按`Cntrl + C`退出Apache pulsar（如果它正在运行），然后输入以下命令:\n",
    "```shell\n",
    "$ docker run -it -p 6650:6650 -p 8080:8080 --mount source=pulsardata,target=/pulsar/data --mount source=pulsarconf,target=/pulsar/conf apachepulsar/pulsar:2.7.0 bin/pulsar standalone\n",
    "```"
   ]
  },
  {
   "cell_type": "markdown",
   "metadata": {},
   "source": [
    "## Task 2: Producing and Consuming messages"
   ]
  },
  {
   "cell_type": "code",
   "execution_count": null,
   "metadata": {},
   "outputs": [],
   "source": []
  }
 ],
 "metadata": {
  "kernelspec": {
   "display_name": "Python 3",
   "language": "python",
   "name": "python3"
  },
  "language_info": {
   "codemirror_mode": {
    "name": "ipython",
    "version": 3
   },
   "file_extension": ".py",
   "mimetype": "text/x-python",
   "name": "python",
   "nbconvert_exporter": "python",
   "pygments_lexer": "ipython3",
   "version": "3.8.8"
  },
  "toc": {
   "base_numbering": 1,
   "nav_menu": {},
   "number_sections": false,
   "sideBar": true,
   "skip_h1_title": true,
   "title_cell": "Table of Contents",
   "title_sidebar": "Contents",
   "toc_cell": false,
   "toc_position": {},
   "toc_section_display": true,
   "toc_window_display": false
  }
 },
 "nbformat": 4,
 "nbformat_minor": 1
}
