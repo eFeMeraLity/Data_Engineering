{
 "cells": [
  {
   "cell_type": "markdown",
   "metadata": {
    "collapsed": true
   },
   "source": [
    "# A Survey of Distributed Data Stream Processing Frameworks\n",
    "[A Survey of Distributed Data Stream Processing Frameworks](https://ieeexplore.ieee.org/document/8864052/)"
   ]
  },
  {
   "cell_type": "markdown",
   "metadata": {},
   "source": [
    "## Abstract"
   ]
  },
  {
   "cell_type": "markdown",
   "metadata": {},
   "source": [
    "Big data processing systems are evolving to be more stream oriented where each data record is processed as it arrives by distributed and low-latency computational frameworks on a continuous basis. As the stream processing technology matures and more organizations invest in digital transformations, new applications of stream analytics will be identified and implemented across a wide spectrum of industries. One of the challenges in developing a streaming analytics infrastructure is the difficulty in selecting the right stream processing framework for the different use cases. With a view to addressing this issue, in this paper we present a taxonomy, a comparative study of distributed data stream processing and analytics frameworks, and a critical review of representative open source (Storm, Spark Streaming, Flink, Kafka Streams) and commercial (IBM Streams) distributed data stream processing frameworks. The study also reports our ongoing study on a multilevel streaming analytics architecture that can serve as a guide for organizations and individuals planning to implement a real-time data stream processing and analytics framework.\\\n",
    "大数据处理系统正朝着更面向流的方向发展，每个数据记录在到达时都由分布式和低延迟的计算框架持续处理。随着流处理技术的成熟和更多的组织在数字转型方面的投资，流分析的新应用将在广泛的行业范围内被识别和实现。开发流分析基础设施的挑战之一是，很难为不同的用例选择正确的流处理框架。为了解决这个问题，在本文中，我们提出了一个分类，分布式数据流处理和分析框架的比较研究，并批判性地回顾了代表性的开源（Storm, Spark Streaming, Flink, Kafka Streams）和商业（IBM Streams）分布式数据流处理框架。该研究还报告了我们正在进行的关于多级流分析架构的研究，该架构可作为计划实现实时数据流处理和分析框架的组织和个人的指南。"
   ]
  },
  {
   "cell_type": "markdown",
   "metadata": {},
   "source": [
    "## SECTION I. Introduction"
   ]
  },
  {
   "cell_type": "markdown",
   "metadata": {},
   "source": [
    "The ability to handle and process continuous data streams is becoming an essential part of building a data-driven organization. Data streams are sequences of unbounded tuples generated continuously in time. Unbounded and global datasets such as Web logs, mobile usage statistics, and sensor networks are increasingly becoming common in day-to-day businesses. Streaming data is also increasingly getting important for social media platforms such as Facebook, Twitter, and LinkedIn.\\\n",
    "处理和处理连续数据流的能力正在成为构建数据驱动组织的一个重要部分。数据流是在时间上连续生成的无界元组序列。在日常业务中，诸如Web日志、移动使用统计数据和传感器网络等不受限制的全局数据集越来越普遍。对于Facebook、Twitter和LinkedIn等社交媒体平台来说，流数据也变得越来越重要。\n",
    "\n",
    "Unlike traditional batch processing which involves processing of static data, streaming or online processing involves processing dynamic or continuous data. Extracting meaningful and timely insights from unbounded data is very challenging. Recent demands for scalable and low latency analytics tools have revealed various shortcomings of traditional batch processing systems such as MapReduce and Hive. __Batch processing systems suffer from latency problems due to the need to collect input data into batches before it can be processed.__ Under several application scenarios such as fraud detection in financial transactions and healthcare analytics involving digital sensors and Internet of Things (IoT), continuous data streams must be processed under very short delays. This is because certain types of data streams such as stock values, credit card transactions, traffic conditions, time-sensitive patient data, and trending news rapidly depreciate in value if not processed instantly. Thus, the ability to handle and process continuous streams of data is becoming an essential part of building today’s data-driven organizations.\\\n",
    "与涉及静态数据处理的传统批处理不同，流处理或在线处理涉及动态或连续数据处理。从无界数据中提取有意义的、及时的见解非常具有挑战性。最近对可扩展和低延迟分析工具的需求暴露了传统批处理系统（如MapReduce和Hive）的各种缺陷。__批处理系统存在延迟问题，因为在处理之前需要将输入数据收集到批处理中。__在一些应用场景下，例如涉及数字传感器和物联网（IoT）的金融交易中的欺诈检测和医疗保健分析，连续的数据流必须在非常短的延迟下处理。这是因为某些类型的数据流，如股票价值、信用卡交易、交通状况、时间敏感的患者数据和趋势新闻，如果不立即处理，会迅速贬值。因此，处理和处理连续的数据流的能力正在成为构建当今数据驱动型组织的重要组成部分。\n",
    "\n",
    "Currently many tools exist for ingesting, processing, storing, indexing, and managing streaming data, which makes it a difficult task for practitioners to select the right combination of tools and platforms for building data stream analytics applications. The main motivation of this paper is to strive to alleviate this task by first identifying the major components of a modern Data Stream Processing System (DSPS). Before choosing a DSPS or any of its components, it is important to understand and evaluate why it is necessary, what is needed and what are the available options.\\\n",
    "目前有许多工具用于接收、处理、存储、索引和管理流数据，这使得从业者很难选择合适的工具和平台组合来构建数据流分析应用程序。本文的主要动机是通过首先确定现代数据流处理系统（DSPS）的主要组成部分来努力减轻这一任务。在选择DSPS或它的任何组件之前，理解和评估为什么它是必要的，什么是必要的，以及什么是可用的选项是很重要的。\n",
    "\n",
    "Data Stream Processing Engines (DSPEs) lie at the core of DSPSs and enable the definition and execution of stream processing pipelines. According to Russo et al., DSPEs have emerged as key enablers to develop pervasive services that process data in a near real-time fashion. However, with the myriad of DSPEs that exist today, the large design space for DSPSs, and the intermingle of technical and marketing content from the different vendors and platforms, it is challenging to map design requirements to efficient and compatible hybrid solutions. This underscores the need for systematic studies to showcase advances in tools enabling data stream processing and open challenges, which form the basis of further research.\\\n",
    "数据流处理引擎（DSPEs）位于DSPSs的核心，支持定义和执行流处理管道。根据Russo等人的说法，DSPEs已经成为开发以接近实时的方式处理数据的普及服务的关键推动者。然而，随着今天存在的无数DSPEs, DSPSs的巨大设计空间，以及来自不同供应商和平台的技术和营销内容的混合，将设计需求映射到高效和兼容的混合解决方案是具有挑战性的。这强调了系统研究的必要性，以展示支持数据流处理和开放挑战的工具的进步，这是进一步研究的基础。\n",
    "\n",
    "A number of literature reviews on DSPEs have emerged in recent years. Some of the early DSPE survey papers include the reports by Kamburugamuve et al. and Bockermann, a selective survey of tools enabling data stream processing by Gorawski et al. and a survey of open source near real-time technologies by Liu et al.. Other surveys of DSPEs and their applications in various domains have been outlined in [14]–[15][16]. Recent surveys on DSPEs include a taxonomy of DSPEs by Zhao et al., a global view of some popular DSPEs by Kolajo et al and a performance comparison of some of the existing DSPEs with regards to time-series analysis by Gehring et al.. Our work extends these recent studies by reviewing both design and implementation aspects of DSPEs unlike most of the previous surveys which focus either on the design, or the implementation aspect. Besides explaining the usefulness and the key features of DSPEs, this paper also provides insights on the design and implementation choices such as when DSPEs are not the most suitable paradigms, and when to choose distributed or single-node approach. The main contributions of this paper are:\n",
    "1. An overview of DSPS including usability and architecture.\n",
    "2. The listing of the key features of DSPEs based on an extensive study of the state-of-the-art DSPEs, which we used to propose a taxonomy of DSPEs.\n",
    "3. A literature review of DSPEs based on the proposed taxonomy and a critical review of some of the popular DSPEs.\n",
    "4. A comparison of DSPEs based on the key features.\n",
    "5. A real-world DSPS use case scenario and the rational for selecting the most appropriate DSPE.\n",
    "6. A discussion on the open research problems in this area.\n",
    "\n",
    "The rest of the paper is organized as follows. Section 2 describes an overview of the architecture and the main components of a general DSPS. Section 3 presents the key features and taxonomy of DSPEs. A literature review of DSPEs encompassing the work of both academic researchers and industry professionals is presented in Section 4. A comparative analysis of some of the cutting edge open source distributed DSPEs (Storm, Spark Streaming, Flink, Kafka Streams, and IBM Streams) is also presented in Section 4. A use case scenario and design considerations for developing a DSPS is presented in Section 5 along with discussions and recommendations for choosing a DSPE for different applications. Section 6 summarizes the paper and draws the conclusion."
   ]
  },
  {
   "cell_type": "markdown",
   "metadata": {},
   "source": [
    "## SECTION II. Motivation and an Overview of DSPS"
   ]
  },
  {
   "cell_type": "markdown",
   "metadata": {},
   "source": [
    "__Modern Data Stream Processing Systems (DSPS) try to combine batch and stream processing capabilities into a single or multiple parallel data processing pipelines. The motivation behind developing such infrastructures is that massive processing can be done on historical data to train machine learning models using batch data analytic pipelines, which can then be deployed on real-time incoming data streams for scoring using a separate data analytic pipeline.__ Marz and Warren propose the lambda architecture, which includes batch and stream processing within a single framework. The lambda architecture was designed for applications that have delays in data collection and online processing due to the use of interactive interfaces or dashboards and data validation steps. It is, however, limited in application because of the requirement of having to build, maintain, and integrate two separate systems. It is, therefore, desirable to reduce this complexity by providing a single interface at a higher level of abstraction to manage the underlying batch and streaming systems.\\\n",
    "__现代数据流处理系统（DSPS）试图将批处理和流处理能力结合到单个或多个并行数据处理管道中。开发这样的基础设施背后的动机是，可以使用批数据分析管道对历史数据进行大规模处理，以训练机器学习模型，然后可以部署在实时输入的数据流上，使用单独的数据分析管道进行评分。__Marz和Warren提出了lambda体系结构，它在单个框架中包含批处理和流处理。lambda架构是为那些由于使用交互界面或指示板和数据验证步骤而导致数据收集和在线处理延迟的应用程序而设计的。然而，由于必须构建、维护和集成两个单独的系统的需求，它在应用中受到限制。因此，我们希望通过在更高的抽象级别上提供单一接口来管理底层的批处理和流系统来减少这种复杂性。\n",
    "\n",
    "In this section, we first motivate the reader by describing data analytics scenarios that will necessitate the use of streaming analytics approach. Next, we give an overview of the general architecture of a DSPS, and finally, describe the main data processing components of a DSPS.\\\n",
    "在本节中，我们首先通过描述需要使用流分析方法的数据分析场景来激励读者。然后对DSPS的总体结构进行了概述，最后对DSPS的主要数据处理组件进行了描述。"
   ]
  },
  {
   "cell_type": "markdown",
   "metadata": {},
   "source": [
    "### A. When to Use a DSPS\n",
    "\n",
    "The traditional approach to processing data at scale is batch processing. Schreiner and Topolnik described a typical example of a batch processing application in the financial sector where a bank collects and stores its transactional data in a data warehouse during the day. The bank then processes and analyzes the stored data offline after the closing time for decision making. Another scenario described by Dean in his book, uses a Web search system where crawlers constantly scrape the web and extracts knowledge but relies on batch processing to update its search index every hour. While both scenarios are simple and robust, the batch processing approach utilized in both cases clearly introduces a large latency between gathering the data and being ready to act upon it.\\\n",
    "大规模处理数据的传统方法是批处理。Schreiner和Topolnik描述了金融领域中的批处理应用程序的一个典型示例，其中银行在白天收集并将其事务数据存储在数据仓库中。银行在关闭时间后，对存储的数据进行离线处理和分析，以供决策。Dean在他的书中描述的另一个场景是，使用一个Web搜索系统，爬虫程序不断地抓取Web并提取知识，但依赖于批处理来每小时更新其搜索索引。虽然这两种场景都很简单和健壮，但在这两种情况中使用的批处理方法显然在收集数据和准备对数据采取行动之间引入了很大的延迟。\n",
    "\n",
    "__The goal of DSPS is to overcome this latency by processing big data volumes and provide useful insights into the data prior to saving it to long-term storage. It processes the live, raw data immediately as it arrives and meets the challenges of incremental processing, scalability, and fault tolerance.__ Streaming processing offers the competitive advantage of timeliness and should be used where real-time results matter or when the value of the information contained in the data stream decreases rapidly with time. Typical example of scenarios that can benefit from DSPS include real-time analytics for systems monitoring and decision support. For example, hospital intensive care units have constant patient health monitoring systems, businesses implement financial news analytics for getting business insights fast, and fraud detection systems for ensuring secured transactions. Also, processing data as it arrives spreads out workloads more evenly over time, thereby, making the consumption of resources more consistent and predictable while enabling real time decision support.\\\n",
    "__DSPS的目标是通过处理大数据量来克服这种延迟，并在将数据保存到长期存储之前提供有用的见解。它在实时的原始数据到达时立即进行处理，并满足增量处理、可伸缩性和容错的挑战。__流处理提供了实时性方面的竞争优势，应该在实时结果很重要或数据流中包含的信息价值随时间迅速下降的情况下使用。从DSPS中受益的典型场景示例包括用于系统监视和决策支持的实时分析。例如，医院的重症监护病房有持续的病人健康监测系统，企业实现财务新闻分析以快速获得业务洞察，欺诈检测系统以确保安全的交易。此外，在数据到达时就对其进行处理，使工作负载随着时间的推移更加均匀地分散，从而使资源消耗更加一致和可预测，同时支持实时决策支持。\n",
    "\n",
    "Stream processing, however, raises new operational challenges and introduces new semantics for analytics. To achieve low latency, a DSPS must be able to perform message processing without having a costly storage operation. It should also be able to handle imperfections in the data streams and process delayed, missing and out-of-order data. A detailed discussion on the requirement of a DSPS, is provided by Stonebraker et al..\\\n",
    "然而，流处理提出了新的操作挑战，并为分析引入了新的语义。为了实现低延迟，DSPS必须能够在不使用昂贵的存储操作的情况下执行消息处理。它还应该能够处理数据流中的缺陷，并处理延迟、丢失和无序的数据。Stonebraker等人提供了对DSPS要求的详细讨论。"
   ]
  },
  {
   "cell_type": "markdown",
   "metadata": {},
   "source": [
    "### B. General Architecture of a DSPS\n"
   ]
  },
  {
   "cell_type": "markdown",
   "metadata": {},
   "source": [
    "### C. Components of a DSPS\n",
    "\n",
    "The input to a DSPS is a sequence of immutable and potentially infinite records which hold information about an event that happened. These records form what is called a data stream. For most DSPSs, despite the diverse data domains and business logic, a generic data processing pipeline exists, which consists of \n",
    "1. a data stream ingestion layer at the front-end, responsible for accepting streams of data into the DSPS\n",
    "2. a data stream processing layer, which pre-processes and analyses data in one or more steps\n",
    "3. a storage layer, which stores, indexes, and manages the data and the generated knowledge\n",
    "4. a resource management layer, which manages and coordinates the functions of distributed compute and storage resources\n",
    "5. an output layer, which directs the output data stream and knowledge to other systems or visualization tools. \n",
    "\n",
    "Fig. 1 represents a generic architectural blueprint of a DSPS. We also provide a concise description of each component.\n",
    "\n",
    "#### 1) Data Stream Ingestion Layer\n",
    "\n",
    "Data ingestion is the process of getting data streams from its source to its processing or storage system as efficiently and correctly as possible. The ingestion layer ensures scalable, resilient, and fault-tolerant data distribution across the DSPS architecture from multiple input data streams, and decouples the input data sources from the other parts of the DSPS.\\\n",
    "数据摄取是尽可能有效和正确地将数据流从数据源获取到其处理或存储系统的过程。摄入层保证了来自多个输入数据流的可扩展、弹性和容错数据在dsp架构中的分布，并将输入数据源与dsp的其他部分解耦。"
   ]
  },
  {
   "cell_type": "markdown",
   "metadata": {},
   "source": [
    "## SECTION III. Data Stream Processing Engines (DSPEs)"
   ]
  },
  {
   "cell_type": "markdown",
   "metadata": {},
   "source": [
    "DSPEs are complex stream processing engines which are composed of multiple components as described below in Section A. These components differ in the underlying programming models, configurations, and operations. Research in DSPEs has diverged into\\\n",
    "DSPEs是复杂的流处理引擎，它由下面我们在Section A中描述的多个组件组成。这些组件在底层编程模型、配置和操作方面有所不同。DSPEs的研究已经分化为\n",
    "1. query-based systems such as NiagaraCQ, TelegraphCQ, and AsterixDB\\\n",
    "基于查询的系统，如NiagaraCQ、TelegraphCQ和AsterixDB\n",
    "2. online distributed machine learning systems such as Scalable Advanced Massive Online Analysis (SAMOA)\\\n",
    "在线分布式机器学习系统，如可扩展的高级大规模在线分析（SAMOA）\n",
    "3. streaming graph analytics systems such as GraphJet\\\n",
    "流图分析系统，如GraphJet\n",
    "4. general purpose streaming data processing frameworks such as Flink and Spark Streaming, having low-latency and a distributed parallel processing architecture\\\n",
    "通用流数据处理框架，如Flink和Spark streaming，具有低延迟和分布式并行处理架构。\n",
    "\n",
    "Here, we explain the key features of DSPEs in Section B and propose a taxonomy for comparing the state of the art DSPEs in Section C. For more information on use case scenarios and advantages of DSPEs such as Storm, S4, SQLstream, Splunk, Kafka, and SAP HANA refer to Khalifa et al., Chen and Zhang. Kejariwal et al., and Sakr provide detailed descriptions of design choices and challenges of selected DSPEs which include S4, Storm, Trident, M3, Samza, Akka, Flink, Spark Streaming, MillWheel, Pulsar, Heron, IBM Streams, Microsoft Trill, and Stream Insight.\\\n",
    "这里,我们在Section B解释DSPEs的关键特性,在Section C提出一种用于比较最新dspe的分类方法。有关用例场景和DSPEs优点的更多信息，例如Storm, S4, SQLstream, Splunk, Kafka, and SAP HANA refer to Khalifa et al., Chen and Zhang. Kejariwal et al., and Sakr provide detailed descriptions of design choices and challenges of selected DSPEs which include S4, Storm, Trident, M3, Samza, Akka, Flink, Spark Streaming, MillWheel, Pulsar, Heron, IBM Streams, Microsoft Trill和Stream Insight."
   ]
  },
  {
   "cell_type": "markdown",
   "metadata": {},
   "source": [
    "### B. Key Features of DSPEs\n",
    "\n",
    "#### 1) Programming Models\n",
    "In summary, DSPEs can do real time streaming data processing where tuples are processed as soon as they arrive or do batch data processing where time windows are used to split the tuples into batches or do both. A batch of stream elements for a given stream is a finite subset of the stream in a time interval. Distributed DSPEs usually process incoming data streams either natively (one tuple at a time) or in micro batches. A query or process is represented as a DAG consisting of a set of node operators, and the source and sink data stream operators. Operators can be either stateless or stateful. Most distributed DSPEs use the continuous operator model where streaming computations are performed by a set of long-lived stateful operators. Each operator processes data stream records as they arrive by updating the internal state and sending new records in response.\\\n",
    "总之，DSPEs可以执行实时流数据处理，其中元组一到就进行处理，或者执行批处理，使用时间窗将元组拆分为批处理，或者两者同时进行。给定流的一批流元素是流在一段时间内的有限子集。分布式DSPEs通常本地处理传入的数据流(一次处理一个元组)或微批处理。查询或进程表示为由一组节点操作符以及源和接收数据流操作符组成的DAG。操作符可以是无状态的，也可以是有状态的。大多数分布式DSPEs使用连续操作符模型，其中流计算由一组长期存在的状态操作符执行。当数据流到达时，每个操作符都通过更新内部状态和发送新记录来处理它们。"
   ]
  },
  {
   "cell_type": "code",
   "execution_count": null,
   "metadata": {},
   "outputs": [],
   "source": []
  }
 ],
 "metadata": {
  "kernelspec": {
   "display_name": "Python 3",
   "language": "python",
   "name": "python3"
  },
  "language_info": {
   "codemirror_mode": {
    "name": "ipython",
    "version": 3
   },
   "file_extension": ".py",
   "mimetype": "text/x-python",
   "name": "python",
   "nbconvert_exporter": "python",
   "pygments_lexer": "ipython3",
   "version": "3.8.8"
  },
  "toc": {
   "base_numbering": 1,
   "nav_menu": {},
   "number_sections": false,
   "sideBar": true,
   "skip_h1_title": false,
   "title_cell": "Table of Contents",
   "title_sidebar": "Contents",
   "toc_cell": false,
   "toc_position": {},
   "toc_section_display": true,
   "toc_window_display": true
  }
 },
 "nbformat": 4,
 "nbformat_minor": 1
}
