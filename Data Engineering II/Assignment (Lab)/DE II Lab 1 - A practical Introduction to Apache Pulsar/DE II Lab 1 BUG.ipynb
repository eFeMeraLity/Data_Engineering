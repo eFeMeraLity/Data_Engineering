{
 "cells": [
  {
   "cell_type": "markdown",
   "metadata": {
    "pycharm": {
     "name": "#%% md\n"
    }
   },
   "source": [
    "# Environment\n",
    "* System: Ubuntu 18.04"
   ]
  },
  {
   "cell_type": "markdown",
   "source": [
    "# Failed to open connection to localhost:6650\n",
    "* __Error description__:\\\n",
    "Run `bin/pulsar standalone`\n",
    "\n",
    "* __Error message__:\n",
    "```shell\n",
    "[pulsar-client-io-1-1] WARN  org.apache.pulsar.client.impl.ConnectionPool - Failed to open connection to localhost:6650 : io.netty.channel.AbstractChannel$AnnotatedConnectException: finishConnect(..) failed: Connection refused: localhost/127.0.0.1:6650\n",
    "```\n",
    "\n",
    "* __Solution__:\\\n",
    "This is because broker did not start successfully, you can try to start broker with the following command:\\\n",
    "这是因为broker没有成功启动，您可以尝试使用以下命令启动broker:\n",
    "```shell\n",
    "./bin/pulsar standalone -a 127.0.0.1 -nss\n",
    "```\n",
    "https://github.com/apache/pulsar/issues/5909#issuecomment-568122128"
   ],
   "metadata": {
    "collapsed": false
   }
  },
  {
   "cell_type": "markdown",
   "metadata": {
    "collapsed": true
   },
   "source": [
    "# Failed to open connection to localhost:6650\n",
    "* __Error description__:\\\n",
    "Run `bin/pulsar standalone`\n",
    "\n",
    "* __Error message__:\n",
    "```shell\n",
    "[pulsar-client-io-1-1] WARN  org.apache.pulsar.client.impl.ConnectionPool - Failed to open connection to localhost:6650 : io.netty.channel.AbstractChannel$AnnotatedConnectException: finishConnect(..) failed: Connection refused: localhost/127.0.0.1:6650\n",
    "```\n",
    "\n",
    "* __Solution__:\\\n",
    "This is because broker did not start successfully, you can try to start broker with the following command:\\\n",
    "这是因为broker没有成功启动，您可以尝试使用以下命令启动broker:\n",
    "```shell\n",
    "./bin/pulsar standalone -a 127.0.0.1 -nss\n",
    "```\n",
    "https://github.com/apache/pulsar/issues/5909#issuecomment-568122128"
   ]
  }
 ],
 "metadata": {
  "kernelspec": {
   "display_name": "Python 3",
   "language": "python",
   "name": "python3"
  },
  "language_info": {
   "codemirror_mode": {
    "name": "ipython",
    "version": 3
   },
   "file_extension": ".py",
   "mimetype": "text/x-python",
   "name": "python",
   "nbconvert_exporter": "python",
   "pygments_lexer": "ipython3",
   "version": "3.8.8"
  },
  "toc": {
   "base_numbering": 1,
   "nav_menu": {},
   "number_sections": false,
   "sideBar": true,
   "skip_h1_title": false,
   "title_cell": "Table of Contents",
   "title_sidebar": "Contents",
   "toc_cell": false,
   "toc_position": {
    "height": "calc(100% - 180px)",
    "left": "10px",
    "top": "150px",
    "width": "288px"
   },
   "toc_section_display": true,
   "toc_window_display": false
  }
 },
 "nbformat": 4,
 "nbformat_minor": 1
}