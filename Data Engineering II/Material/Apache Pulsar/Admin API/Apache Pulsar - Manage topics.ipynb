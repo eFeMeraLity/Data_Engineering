{
 "cells": [
  {
   "cell_type": "markdown",
   "metadata": {
    "collapsed": true
   },
   "source": [
    "# Manage topics\n",
    "[Apache Pulsar 2.7.1 - Manage topics](https://pulsar.apache.org/docs/en/admin-api-topics/)"
   ]
  },
  {
   "cell_type": "markdown",
   "metadata": {},
   "source": [
    "Pulsar has persistent and non-persistent topics. Persistent topic is a logical endpoint for publishing and consuming messages. The topic name structure for persistent topics is:\\\n",
    "Pulsar有持久和非持久的主题。持久主题是发布和使用消息的逻辑端点。持久主题的主题名称结构是:\n",
    "```shell\n",
    "persistent://tenant/namespace/topic\n",
    "```\n",
    "\n",
    "Non-persistent topics are used in applications that only consume real-time published messages and do not need persistent guarantee. In this way, it reduces message-publish latency by removing overhead of persisting messages. The topic name structure for non-persistent topics is:\\\n",
    "非持久性主题用于只使用实时发布消息且不需要持久性保证的应用程序中。通过这种方式，它消除了持久化消息的开销，从而减少了消息发布延迟。非持久主题的主题名称结构是:\n",
    "```shell\n",
    "non-persistent://tenant/namespace/topic\n",
    "```"
   ]
  },
  {
   "cell_type": "markdown",
   "metadata": {},
   "source": [
    "## Manage topic resources"
   ]
  },
  {
   "cell_type": "markdown",
   "metadata": {},
   "source": [
    "Whether it is persistent or non-persistent topic, you can obtain the topic resources through `pulsar-admin` tool, REST API and Java.\\\n",
    "无论是持久主题还是非持久主题，您都可以通过“脉动管理”工具、REST API和Java获取主题资源。"
   ]
  },
  {
   "cell_type": "markdown",
   "metadata": {},
   "source": [
    "### List of topics\n",
    "\n",
    "You can get the list of topics under a given namespace in the following ways.\\\n",
    "可以通过以下方式获得给定名称空间下的主题列表。\n",
    "```shell\n",
    "bin/pulsar-admin topics list test-tenant/test-namespace\n",
    "```"
   ]
  },
  {
   "cell_type": "markdown",
   "metadata": {},
   "source": [
    "## Manage partitioned topics"
   ]
  },
  {
   "cell_type": "markdown",
   "metadata": {},
   "source": [
    "You can use Pulsar admin API to create, update, delete and check status of partitioned topics."
   ]
  },
  {
   "cell_type": "markdown",
   "metadata": {},
   "source": [
    "### Create\n",
    "\n",
    "Partitioned topics must be explicitly created. When creating a new partitioned topic, you need to provide a name and the number of partitions for the topic.\\\n",
    "分区主题必须显式创建。在创建一个新的分区主题时，您需要提供该主题的名称和分区数量。\n",
    "\n",
    "By default, 60 seconds after creation, topics are considered inactive and deleted automatically to avoid generating trash data. To disable this feature, set `brokerDeleteInactiveTopicsEnabled` to `false`. To change the frequency of checking inactive topics, set `brokerDeleteInactiveTopicsFrequencySeconds` to a specific value.\\\n",
    "默认情况下，主题创建60秒后被认为是不活动的，并自动删除，以避免生成垃圾数据。要禁用此功能，将`brokerdeleteinactivetopicsenenabled`设置为`false`。要更改检查不活动主题的频率，请将`brokerDeleteInactiveTopicsFrequencySeconds`设置为一个特定的值。\n",
    "\n",
    "For more information about the two parameters, see [here](https://pulsar.apache.org/docs/en/reference-configuration#broker).\\\n",
    "有关这两个参数的更多信息，请参见[这里](https://pulsar.apache.org/docs/en/reference-configuration#broker)。\n",
    "\n",
    "__How to change the frequency of checking inactive topics?__\\\n",
    "如何改变检查非活动主题的频率?\n",
    "1. Navigate to the Apache Pulsar directory.\\\n",
    "导航至Apache Pulsar文件夹。\n",
    "2. Visit the `broker.conf` file\\\n",
    "访问`broker.conf`文件\n",
    "```shell\n",
    "vim conf/broker.conf\n",
    "```\n",
    "3. Set\\\n",
    "设置\n",
    "```shell\n",
    "brokerDeleteInactiveTopicsFrequencySeconds = 3600\n",
    "```\n",
    "to change the frequency of checking inactive topics to 1 hour.\\\n",
    "将检查非活动主题的频率更改为1小时。\n",
    "\n",
    "__You can create partitioned topics in the following ways.__\\\n",
    "您可以通过以下方式创建分区主题。\n",
    "1. __`pulsar-admin`__\\\n",
    "When you create partitioned topics with the [`create-partitioned-topic`](https://pulsar.apache.org/docs/en/pulsar-admin#create-partitioned-topic) command, you need to specify the topic name as an argument and the number of partitions using the `-p` or `--partitions` flag.\\\n",
    "当您使用[`create-partitioned-topic`](https://pulsar.apache.org/docs/en/pulsar-admin#create-partitioned-topic)命令创建分区主题时，您需要指定主题名称作为参数，并使用`-p`或`--partitions`标志指定分区的数量。\n",
    "```shell\n",
    "bin/pulsar-admin topics create-partitioned-topic \\\n",
    "persistent://test-tenant/test-namespace/test-topic --partitions 4\n",
    "```\n",
    "__Note__\\\n",
    "If a non-partitioned topic with the suffix '-partition-' followed by a numeric value like 'xyz-topic-partition-10', you can not create a partitioned topic with name 'xyz-topic', because the partitions of the partitioned topic could override the existing non-partitioned topic. To create such partitioned topic, you have to delete that non-partitioned topic first.\\\n",
    "如果一个非分区主题带有后缀'-partition-'，后跟一个数字值，如'xyz-topic-partition-10'，则不能创建一个名为'xyz-topic'的分区主题，因为已分区主题的分区可能会覆盖现有的非分区主题。要创建这样的分区主题，您必须首先删除非分区主题。"
   ]
  },
  {
   "cell_type": "markdown",
   "metadata": {},
   "source": [
    "### List\n",
    "You can get the list of topics under a given namespace in the following ways.\n",
    "```shell\n",
    "pulsar-admin topics list test-tenant/test-namespace\n",
    "```\n",
    "You should see something like this:\n",
    "```shell\n",
    "\"persistent://test-tenant/test-namespace/test-topic-partition-0\"\n",
    "\"persistent://test-tenant/test-namespace/test-topic-partition-1\"\n",
    "\"persistent://test-tenant/test-namespace/test-topic-partition-2\"\n",
    "\"persistent://test-tenant/test-namespace/test-topic-partition-3\"\n",
    "```"
   ]
  }
 ],
 "metadata": {
  "kernelspec": {
   "display_name": "Python 3",
   "language": "python",
   "name": "python3"
  },
  "language_info": {
   "codemirror_mode": {
    "name": "ipython",
    "version": 3
   },
   "file_extension": ".py",
   "mimetype": "text/x-python",
   "name": "python",
   "nbconvert_exporter": "python",
   "pygments_lexer": "ipython3",
   "version": "3.8.8"
  },
  "toc": {
   "base_numbering": 1,
   "nav_menu": {},
   "number_sections": true,
   "sideBar": true,
   "skip_h1_title": true,
   "title_cell": "Table of Contents",
   "title_sidebar": "Contents",
   "toc_cell": false,
   "toc_position": {
    "height": "calc(100% - 180px)",
    "left": "10px",
    "top": "150px",
    "width": "288px"
   },
   "toc_section_display": true,
   "toc_window_display": false
  }
 },
 "nbformat": 4,
 "nbformat_minor": 1
}
