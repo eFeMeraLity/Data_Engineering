{
 "cells": [
  {
   "cell_type": "markdown",
   "metadata": {},
   "source": [
    "# Apache Pulsar - Managing Namespaces"
   ]
  },
  {
   "cell_type": "markdown",
   "metadata": {},
   "source": [
    "## Namespaces resources"
   ]
  },
  {
   "cell_type": "markdown",
   "metadata": {},
   "source": [
    "### Create namespaces\n",
    "\n",
    "You can create new namespaces under a given [tenant](https://pulsar.apache.org/docs/en/reference-terminology#tenant)."
   ]
  },
  {
   "cell_type": "markdown",
   "metadata": {},
   "source": [
    "Use the [`create`](https://pulsar.apache.org/docs/en/pulsar-admin#namespaces-create) subcommand and specify the namespace by name:\n",
    "```shell\n",
    "bin/pulsar-admin namespaces create test-tenant/test-namespace\n",
    "```"
   ]
  },
  {
   "cell_type": "markdown",
   "metadata": {},
   "source": [
    "### List namespaces\n",
    "\n",
    "You can list all namespaces within a given Pulsar [tenant](https://pulsar.apache.org/docs/en/reference-terminology#tenant).\n",
    "\n",
    "Use the [`list`](https://pulsar.apache.org/docs/en/pulsar-admin#namespaces-list) subcommand and specify the tenant:\n",
    "```shell\n",
    "bin/pulsar-admin namespaces list test-tenant\n",
    "```\n",
    "You should see something like this:\n",
    "```shell\n",
    "\"test-tenant/test-namespace\"\n",
    "```"
   ]
  },
  {
   "cell_type": "code",
   "execution_count": null,
   "metadata": {},
   "outputs": [],
   "source": []
  }
 ],
 "metadata": {
  "kernelspec": {
   "display_name": "Python 3",
   "language": "python",
   "name": "python3"
  },
  "language_info": {
   "codemirror_mode": {
    "name": "ipython",
    "version": 3
   },
   "file_extension": ".py",
   "mimetype": "text/x-python",
   "name": "python",
   "nbconvert_exporter": "python",
   "pygments_lexer": "ipython3",
   "version": "3.8.8"
  },
  "toc": {
   "base_numbering": 1,
   "nav_menu": {},
   "number_sections": true,
   "sideBar": true,
   "skip_h1_title": false,
   "title_cell": "Table of Contents",
   "title_sidebar": "Contents",
   "toc_cell": false,
   "toc_position": {},
   "toc_section_display": true,
   "toc_window_display": true
  }
 },
 "nbformat": 4,
 "nbformat_minor": 4
}
