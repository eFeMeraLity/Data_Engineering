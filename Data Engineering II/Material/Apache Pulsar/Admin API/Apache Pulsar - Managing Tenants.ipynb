{
 "cells": [
  {
   "cell_type": "markdown",
   "metadata": {
    "collapsed": true
   },
   "source": [
    "# Apache Pulsar - Managing Tenants"
   ]
  },
  {
   "cell_type": "markdown",
   "metadata": {},
   "source": [
    "Tenants, like namespaces, can be managed using the admin API. There are currently two configurable aspects of tenants:\\\n",
    "tenant和名称空间一样，可以使用admin API进行管理。tenant目前有两个可配置的方面:\n",
    "* Admin roles\n",
    "* Allowed clusters"
   ]
  },
  {
   "cell_type": "markdown",
   "metadata": {},
   "source": [
    "## Tenant resources"
   ]
  },
  {
   "cell_type": "markdown",
   "metadata": {},
   "source": [
    "### List\n",
    "\n",
    "You can list all of the tenants associated with an [instance](https://pulsar.apache.org/docs/en/reference-terminology#instance).\n",
    "\n",
    "Use the [`list`](https://pulsar.apache.org/docs/en/pulsar-admin#tenants-list) subcommand.\n",
    "```shell\n",
    "bin/pulsar-admin tenants list\n",
    "```"
   ]
  },
  {
   "cell_type": "markdown",
   "metadata": {},
   "source": [
    "### Create\n",
    "\n",
    "You can create a new tenant.\n",
    "\n",
    "Use the [`create`](https://pulsar.apache.org/docs/en/pulsar-admin#tenants-create) subcommand:\n",
    "```shell\n",
    "bin/pulsar-admin tenants create test-tenant\n",
    "```"
   ]
  },
  {
   "cell_type": "code",
   "execution_count": null,
   "metadata": {},
   "outputs": [],
   "source": []
  }
 ],
 "metadata": {
  "kernelspec": {
   "display_name": "Python 3",
   "language": "python",
   "name": "python3"
  },
  "language_info": {
   "codemirror_mode": {
    "name": "ipython",
    "version": 3
   },
   "file_extension": ".py",
   "mimetype": "text/x-python",
   "name": "python",
   "nbconvert_exporter": "python",
   "pygments_lexer": "ipython3",
   "version": "3.8.8"
  },
  "toc": {
   "base_numbering": 1,
   "nav_menu": {},
   "number_sections": true,
   "sideBar": true,
   "skip_h1_title": true,
   "title_cell": "Table of Contents",
   "title_sidebar": "Contents",
   "toc_cell": false,
   "toc_position": {},
   "toc_section_display": true,
   "toc_window_display": false
  }
 },
 "nbformat": 4,
 "nbformat_minor": 1
}
