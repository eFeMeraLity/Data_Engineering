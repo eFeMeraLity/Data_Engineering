{
 "cells": [
  {
   "cell_type": "markdown",
   "metadata": {
    "collapsed": true,
    "pycharm": {
     "name": "#%% md\n"
    }
   },
   "source": [
    "# Apache Pulsar - ZooKeeper and BookKeeper administration"
   ]
  },
  {
   "cell_type": "markdown",
   "metadata": {},
   "source": [
    "Pulsar relies on two external systems for essential tasks:\\\n",
    "Pulsar的基本任务依赖于两个外部系统:\n",
    "* [ZooKeeper](https://zookeeper.apache.org/) is responsible for a wide variety of configuration-related and coordination-related tasks.\\\n",
    "[ZooKeeper](https://zookeeper.apache.org/)负责各种各样与配置和协调相关的任务。\n",
    "* [BookKeeper](http://bookkeeper.apache.org/) is responsible for [persistent storage](https://pulsar.apache.org/docs/en/concepts-architecture-overview#persistent-storage) of message data.\\\n",
    "[BookKeeper](http://bookkeeper.apache.org/)负责消息数据的持久存储。\n",
    "\n",
    "ZooKeeper and BookKeeper are both open-source [Apache](https://www.apache.org/) projects.\\\n",
    "ZooKeeper和BookKeeper都是开源的[Apache](https://www.apache.org/)项目。\n",
    "\n",
    "Skip to the [How Pulsar uses ZooKeeper and BookKeeper](https://pulsar.apache.org/docs/en/administration-zk-bk/#how-pulsar-uses-zookeeper-and-bookkeeper) section below for a more schematic explanation of the role of these two systems in Pulsar.\\\n",
    "请跳到下面的[Pulsar如何使用ZooKeeper和BookKeeper](https://pulsar.apache.org/docs/en/administration-zk-bk/#how-pulsar-uses-zookeeper-and-bookkeeper)一节，了解这两个系统在Pulsar中的作用。"
   ]
  },
  {
   "cell_type": "markdown",
   "metadata": {},
   "source": [
    "## ZooKeeper"
   ]
  },
  {
   "cell_type": "markdown",
   "metadata": {},
   "source": [
    "Each Pulsar instance relies on two separate ZooKeeper quorums.\\\n",
    "每个Pulsar实例都依赖于两个独立的ZooKeeper quorum。\n",
    "* [Local ZooKeeper](https://pulsar.apache.org/docs/en/administration-zk-bk/#deploy-local-zookeeper) operates at the cluster level and provides cluster-specific configuration management and coordination. Each Pulsar cluster needs to have a dedicated ZooKeeper cluster.\\\n",
    "Local ZooKeeper运行在集群级别，提供集群特有的配置管理和协调。每个Pulsar集群需要有一个专用的ZooKeeper集群。\n",
    "* [Configuration Store](https://pulsar.apache.org/docs/en/administration-zk-bk/#deploy-configuration-store) operates at the instance level and provides configuration management for the entire system (and thus across clusters). An independent cluster of machines or the same machines that local ZooKeeper uses can provide the configuration store quorum.\\\n",
    "[Configuration Store](https://pulsar.apache.org/docs/en/administration-zk-bk/#deploy-configuration-store)在实例级别运行，并为整个系统（从而跨集群）提供配置管理。一个独立集群的机器或者local ZooKeeper使用的相同机器可以提供配置存储仲裁。"
   ]
  },
  {
   "cell_type": "markdown",
   "metadata": {},
   "source": [
    "## BookKeeper"
   ]
  },
  {
   "cell_type": "markdown",
   "metadata": {},
   "source": [
    "BookKeeper stores all durable message in Pulsar. BookKeeper is a distributed [write-ahead log](https://en.wikipedia.org/wiki/Write-ahead_logging) WAL system that guarantees read consistency of independent message logs calls ledgers. Individual BookKeeper servers are also called bookies.\\\n",
    "BookKeeper将所有持久信息存储在Pulsar中。BookKeeper是一个分布式[write-ahead log](https://en.wikipedia.org/wiki/Write-ahead_logging)WAL系统，它保证了独立消息日志（称为分类帐）的读的一致性。单个BookKeeper服务器也被称为bookie。\n",
    "\n",
    "To manage message persistence, retention, and expiry in Pulsar, refer to [cookbook](https://pulsar.apache.org/docs/en/cookbooks-retention-expiry).\\\n",
    "要管理Pulsar中的消息持久性、保留和过期，请参考[cookbook](https://pulsar.apache.org/docs/en/cookbooks-retention-expiry)。"
   ]
  },
  {
   "cell_type": "code",
   "execution_count": null,
   "metadata": {},
   "outputs": [],
   "source": []
  }
 ],
 "metadata": {
  "kernelspec": {
   "display_name": "Python 3",
   "language": "python",
   "name": "python3"
  },
  "language_info": {
   "codemirror_mode": {
    "name": "ipython",
    "version": 3
   },
   "file_extension": ".py",
   "mimetype": "text/x-python",
   "name": "python",
   "nbconvert_exporter": "python",
   "pygments_lexer": "ipython3",
   "version": "3.8.8"
  },
  "toc": {
   "base_numbering": 1,
   "nav_menu": {},
   "number_sections": true,
   "sideBar": true,
   "skip_h1_title": true,
   "title_cell": "Table of Contents",
   "title_sidebar": "Contents",
   "toc_cell": false,
   "toc_position": {},
   "toc_section_display": true,
   "toc_window_display": false
  }
 },
 "nbformat": 4,
 "nbformat_minor": 1
}
