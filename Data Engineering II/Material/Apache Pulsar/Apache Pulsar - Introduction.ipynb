{
 "cells": [
  {
   "cell_type": "markdown",
   "metadata": {
    "collapsed": true
   },
   "source": [
    "# Apache Pulsar - Introduction\n",
    "[Apache Pulsar 2.7.1](https://pulsar.apache.org/en/)"
   ]
  },
  {
   "cell_type": "markdown",
   "metadata": {},
   "source": [
    "Apache Pulsar is a cloud-native, distributed messaging and streaming platform originally created at Yahoo! and now a top-level Apache Software Foundation project.\\\n",
    "Apache Pulsar是一个云原生的分布式消息和流平台，最初由Yahoo!创建，现在是Apache软件基金会的顶级项目。"
   ]
  },
  {
   "cell_type": "markdown",
   "metadata": {},
   "source": [
    "## Features"
   ]
  },
  {
   "cell_type": "markdown",
   "metadata": {},
   "source": [
    "* __Pulsar Functions__\\\n",
    "Easy to deploy, lightweight compute process, developer-friendly APIs, no need to run your own stream processing engine.\\\n",
    "易于部署，轻量级的计算过程，开发者友好的api，不需要运行自己的流处理引擎。\n",
    "\n",
    "* __Proven in production__\\\n",
    "Run in production at Yahoo! scale for over 5 years, with millions of messages per second across millions of topics.\\\n",
    "在Yahoo!生产运行超过5年，每秒钟有数百万条信息跨越数百万个主题。\n",
    "\n",
    "* __Horizontally scalable__\\\n",
    "Expand capacity seamlessly to hundreds of nodes.\\\n",
    "无缝（seamlessly）扩展到数百个节点。\n",
    "\n",
    "* __Low latency with durability__\\\n",
    "Low publish latency (< 5ms) at scale with strong durability guarantees.\\\n",
    "低发布延迟(< 5ms)和强大的持久性保证。\n",
    "\n",
    "* __Geo-replication__\\\n",
    "Configurable replication between data centers across multiple geographic regions.\\\n",
    "跨多个地理区域的数据中心之间的可配置复制。\n",
    "\n",
    "* __Multi-tenancy__\\\n",
    "Built from the ground up as a multi-tenant system. Supports isolation, authentication, authorization and quotas.\\\n",
    "作为一个多租户系统从头构建。支持隔离、身份验证、授权和配额。\n",
    "\n",
    "* __Persistent storage__\\\n",
    "Persistent message storage based on Apache BookKeeper. IO-level isolation between write and read operations.\\\n",
    "基于Apache BookKeeper的持久消息存储。写和读操作之间的IO级别隔离。\n",
    "\n",
    "* __Client libraries__\\\n",
    "Flexible messaging models with high-level APIs for Java, Go, Python, C++, Node.js, WebSocket and C#.\\\n",
    "灵活的消息模型，为Java, Go, Python, c++， Node.js, WebSocket和c#提供高级api。\n",
    "\n",
    "* __Operability__\\\n",
    "REST Admin API for provisioning, administration, tools and monitoring. Can be deployed on bare metal, Kubernetes, Amazon Web Services (AWS), and DataCenter Operating System (DC/OS).\\\n",
    "用于配置、管理、工具和监视的REST管理API。支持bare metal、Kubernetes、AWS (Amazon Web Services)、DC/OS。"
   ]
  }
 ],
 "metadata": {
  "kernelspec": {
   "display_name": "Python 3",
   "language": "python",
   "name": "python3"
  },
  "language_info": {
   "codemirror_mode": {
    "name": "ipython",
    "version": 3
   },
   "file_extension": ".py",
   "mimetype": "text/x-python",
   "name": "python",
   "nbconvert_exporter": "python",
   "pygments_lexer": "ipython3",
   "version": "3.8.8"
  },
  "toc": {
   "base_numbering": 1,
   "nav_menu": {},
   "number_sections": true,
   "sideBar": true,
   "skip_h1_title": true,
   "title_cell": "Table of Contents",
   "title_sidebar": "Contents",
   "toc_cell": false,
   "toc_position": {},
   "toc_section_display": true,
   "toc_window_display": true
  }
 },
 "nbformat": 4,
 "nbformat_minor": 1
}