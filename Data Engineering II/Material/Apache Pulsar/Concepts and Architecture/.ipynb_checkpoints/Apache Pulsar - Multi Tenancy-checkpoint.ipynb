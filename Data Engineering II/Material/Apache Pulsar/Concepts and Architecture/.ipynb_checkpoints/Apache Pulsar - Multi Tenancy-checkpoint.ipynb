{
 "cells": [
  {
   "cell_type": "markdown",
   "metadata": {
    "collapsed": true
   },
   "source": [
    "# Apache Pulsar - Multi Tenancy\n",
    "[Apache Pulsar - Concepts and Architecture/Multi Tenancy](https://pulsar.apache.org/docs/en/concepts-multi-tenancy/)"
   ]
  },
  {
   "cell_type": "markdown",
   "metadata": {},
   "source": [
    "Pulsar was created from the ground up as a multi-tenant system. To support multi-tenancy, Pulsar has a concept of tenants. Tenants can be spread across clusters and can each have their own authentication and authorization scheme applied to them. They are also the administrative unit at which storage quotas, message TTL, and isolation policies can be managed.\\\n",
    "Pulsar是作为一个多tenant系统创建的。为了支持多tenancy，Pulsar有了tenant的概念。tenant可以跨集群分布，每个tenant可以应用自己的身份验证和授权方案。它们也是可以管理存储配额、消息TTL和隔离策略的管理单元。\n",
    "\n",
    "The multi-tenant nature of Pulsar is reflected mostly visibly in topic URLs, which have this structure:\\\n",
    "Pulsar的多tenant特性主要体现在主题URL中，其结构如下:\n",
    "```\n",
    "persistent://tenant/namespace/topic\n",
    "```\n",
    "\n",
    "As you can see, the tenant is the most basic unit of categorization for topics (more fundamental than the namespace and topic name).\\\n",
    "如您所见，tenant是主题分类的最基本单元（比名称空间和主题名称更基本）。"
   ]
  },
  {
   "cell_type": "markdown",
   "metadata": {},
   "source": [
    "## Tenants"
   ]
  },
  {
   "cell_type": "markdown",
   "metadata": {},
   "source": [
    "To each tenant in a Pulsar instance you can assign:\\\n",
    "对于Pulsar实例中的每个tenant，您可以分配:\n",
    "* An authorization scheme\\\n",
    "一个授权方案\n",
    "* The set of clusters to which the tenant's configuration applies\\\n",
    "tenant配置应用到的一组集群"
   ]
  },
  {
   "cell_type": "code",
   "execution_count": null,
   "metadata": {},
   "outputs": [],
   "source": []
  }
 ],
 "metadata": {
  "kernelspec": {
   "display_name": "Python 3",
   "language": "python",
   "name": "python3"
  },
  "language_info": {
   "codemirror_mode": {
    "name": "ipython",
    "version": 3
   },
   "file_extension": ".py",
   "mimetype": "text/x-python",
   "name": "python",
   "nbconvert_exporter": "python",
   "pygments_lexer": "ipython3",
   "version": "3.8.8"
  },
  "toc": {
   "base_numbering": 1,
   "nav_menu": {},
   "number_sections": true,
   "sideBar": true,
   "skip_h1_title": true,
   "title_cell": "Table of Contents",
   "title_sidebar": "Contents",
   "toc_cell": false,
   "toc_position": {},
   "toc_section_display": true,
   "toc_window_display": true
  }
 },
 "nbformat": 4,
 "nbformat_minor": 1
}
